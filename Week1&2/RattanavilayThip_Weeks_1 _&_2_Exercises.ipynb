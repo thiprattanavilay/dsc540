{
 "cells": [
  {
   "cell_type": "markdown",
   "metadata": {},
   "source": [
    "##########################################################\n",
    "#### File: RattanavilayThip_Weeks_1 _&_2_Exercises<br>\n",
    "#### Name: Thip Rattanavilay<br>\n",
    "#### Date: 03/25/2021<br>\n",
    "#### Course: DSC 540 - Weeks 1 & 2 Exercises<br>\n",
    "##########################################################"
   ]
  },
  {
   "cell_type": "code",
   "execution_count": 14,
   "metadata": {},
   "outputs": [],
   "source": [
    "import pandas as pd\n",
    "import numpy as np\n",
    "import random as rd\n",
    "import matplotlib.pyplot as plt\n",
    "from IPython.core.display import display, HTML"
   ]
  },
  {
   "cell_type": "markdown",
   "metadata": {},
   "source": [
    "# 1. Create a Jupyter notebook where you create a list, iterate over the list and sort your results, generate random numbers, add to the list, and then print your results."
   ]
  },
  {
   "cell_type": "markdown",
   "metadata": {},
   "source": [
    "\n",
    "## A. Create a list"
   ]
  },
  {
   "cell_type": "code",
   "execution_count": 7,
   "metadata": {},
   "outputs": [
    {
     "data": {
      "text/plain": [
       "[1, 2, 3, 4, 5, 6, 7, 8, 9, 10, 11, 12, 13, 14, 15, 16, 17, 18, 19, 20]"
      ]
     },
     "execution_count": 7,
     "metadata": {},
     "output_type": "execute_result"
    }
   ],
   "source": [
    "my_list = [1, 2, 3, 4, 5, 6, 7, 8, 9, 10, 11, 12, 13, 14, 15, 16, 17, 18, 19, 20]\n",
    "my_list"
   ]
  },
  {
   "cell_type": "markdown",
   "metadata": {},
   "source": [
    "## B. Iterate over the list to sort your results"
   ]
  },
  {
   "cell_type": "code",
   "execution_count": 8,
   "metadata": {},
   "outputs": [
    {
     "name": "stdout",
     "output_type": "stream",
     "text": [
      "[1, 2, 3, 4, 5, 6, 7, 8, 9, 10, 11, 12, 13, 14, 15, 16, 17, 18, 19, 20]\n"
     ]
    }
   ],
   "source": [
    "for i in np.arange(0, len(my_list)):\n",
    "    key = my_list[i] \n",
    "    j = i-1\n",
    "    while j >=0 and key < my_list[j] : \n",
    "            my_list[j+1] = my_list[j] \n",
    "            j += -1\n",
    "    my_list[j+1] = key \n",
    "        \n",
    "print(my_list)"
   ]
  },
  {
   "cell_type": "markdown",
   "metadata": {},
   "source": [
    "## C. Generate random numbers"
   ]
  },
  {
   "cell_type": "code",
   "execution_count": 9,
   "metadata": {},
   "outputs": [
    {
     "name": "stdout",
     "output_type": "stream",
     "text": [
      "[20, 12, 11, 6, 19, 4, 10, 4, 19, 12]\n"
     ]
    }
   ],
   "source": [
    "rand_nums = [rd.randint(1,20) for i  in range(0,10)]\n",
    "\n",
    "print(rand_nums)"
   ]
  },
  {
   "cell_type": "markdown",
   "metadata": {},
   "source": [
    "## D. Add to the list, and then print your results.**"
   ]
  },
  {
   "cell_type": "code",
   "execution_count": 10,
   "metadata": {},
   "outputs": [
    {
     "name": "stdout",
     "output_type": "stream",
     "text": [
      "[1, 2, 3, 4, 5, 6, 7, 8, 9, 10, 11, 12, 13, 14, 15, 16, 17, 18, 19, 20, 20, 12, 11, 6, 19, 4, 10, 4, 19, 12]\n"
     ]
    }
   ],
   "source": [
    "my_list = my_list + rand_nums\n",
    "print(my_list)"
   ]
  },
  {
   "cell_type": "markdown",
   "metadata": {},
   "source": [
    "# 2. Create a line chart with Matplotlib and the following data file"
   ]
  },
  {
   "cell_type": "code",
   "execution_count": 11,
   "metadata": {},
   "outputs": [
    {
     "data": {
      "text/html": [
       "<div>\n",
       "<style scoped>\n",
       "    .dataframe tbody tr th:only-of-type {\n",
       "        vertical-align: middle;\n",
       "    }\n",
       "\n",
       "    .dataframe tbody tr th {\n",
       "        vertical-align: top;\n",
       "    }\n",
       "\n",
       "    .dataframe thead th {\n",
       "        text-align: right;\n",
       "    }\n",
       "</style>\n",
       "<table border=\"1\" class=\"dataframe\">\n",
       "  <thead>\n",
       "    <tr style=\"text-align: right;\">\n",
       "      <th></th>\n",
       "      <th>Year</th>\n",
       "      <th>Population</th>\n",
       "    </tr>\n",
       "  </thead>\n",
       "  <tbody>\n",
       "    <tr>\n",
       "      <th>0</th>\n",
       "      <td>1960</td>\n",
       "      <td>3028654024</td>\n",
       "    </tr>\n",
       "    <tr>\n",
       "      <th>1</th>\n",
       "      <td>1961</td>\n",
       "      <td>3068356747</td>\n",
       "    </tr>\n",
       "    <tr>\n",
       "      <th>2</th>\n",
       "      <td>1962</td>\n",
       "      <td>3121963107</td>\n",
       "    </tr>\n",
       "    <tr>\n",
       "      <th>3</th>\n",
       "      <td>1963</td>\n",
       "      <td>3187471383</td>\n",
       "    </tr>\n",
       "    <tr>\n",
       "      <th>4</th>\n",
       "      <td>1964</td>\n",
       "      <td>3253112403</td>\n",
       "    </tr>\n",
       "  </tbody>\n",
       "</table>\n",
       "</div>"
      ],
      "text/plain": [
       "   Year  Population\n",
       "0  1960  3028654024\n",
       "1  1961  3068356747\n",
       "2  1962  3121963107\n",
       "3  1963  3187471383\n",
       "4  1964  3253112403"
      ]
     },
     "execution_count": 11,
     "metadata": {},
     "output_type": "execute_result"
    }
   ],
   "source": [
    "df = pd.read_excel(\"world-population.xlsm\")\n",
    "df.head()"
   ]
  },
  {
   "cell_type": "code",
   "execution_count": 12,
   "metadata": {},
   "outputs": [
    {
     "data": {
      "image/png": "[encoded data removed]",
      "text/plain": [
       "<Figure size 1152x648 with 1 Axes>"
      ]
     },
     "metadata": {
      "needs_background": "light"
     },
     "output_type": "display_data"
    }
   ],
   "source": [
    "plt.figure(figsize=(16, 9))\n",
    "plt.plot(df['Year'], df['Population'], color = \"cornflowerblue\")\n",
    "plt.scatter(df['Year'], df['Population'], color = \"cornflowerblue\");\n",
    "plt.title(\"Earth's Population by Year\")\n",
    "plt.xlabel(\"Year\")\n",
    "plt.grid()\n",
    "plt.ylabel(\"Population (in Billions)\");"
   ]
  },
  {
   "cell_type": "markdown",
   "metadata": {},
   "source": [
    "# 3. Complete the following activities"
   ]
  },
  {
   "cell_type": "markdown",
   "metadata": {},
   "source": [
    "# Activity 1: Handling Lists\n",
    "In this activity, we will generate a **list** of random numbers and then generate another **list** from the first one, which only contain numbers that are divisible by three. Repeat the experiment three times Then, we will calculate the average difference of length between the two lists. <br><br> These are the steps for completing this activity:\n",
    "\n",
    "### 1. Create a `list` of 100 random numbers"
   ]
  },
  {
   "cell_type": "code",
   "execution_count": 15,
   "metadata": {},
   "outputs": [
    {
     "name": "stdout",
     "output_type": "stream",
     "text": [
      "[14, 93, 68, 70, 36, 18, 4, 83, 11, 56, 61, 97, 62, 85, 93, 13, 25, 24, 94, 21, 24, 91, 81, 4, 24, 72, 57, 9, 77, 26, 2, 20, 18, 42, 81, 13, 3, 93, 11, 88, 71, 9, 62, 2, 10, 5, 55, 27, 85, 18, 19, 52, 70, 39, 75, 81, 27, 28, 2, 61, 53, 87, 13, 17, 74, 43, 77, 94, 5, 43, 51, 34, 47, 61, 20, 11, 21, 73, 52, 24, 73, 19, 35, 58, 46, 18, 86, 29, 84, 71, 41, 60, 60, 90, 22, 97, 90, 9, 95, 42]\n"
     ]
    }
   ],
   "source": [
    "## Return a list of random numbers. Default is 100.\n",
    "\n",
    "def generate_random_numbers(l = 100):\n",
    "    \n",
    "    random_numbers = [rd.randint(1,100) for i in range(0,l)]\n",
    "    return random_numbers\n",
    "\n",
    "rand_nums = generate_random_numbers()\n",
    "print(rand_nums)"
   ]
  },
  {
   "cell_type": "markdown",
   "metadata": {},
   "source": [
    "### 2.  Create a new `list` from this random `list`, with numbers that are divisible by 3."
   ]
  },
  {
   "cell_type": "code",
   "execution_count": 9,
   "metadata": {},
   "outputs": [
    {
     "name": "stdout",
     "output_type": "stream",
     "text": [
      "[39, 75, 51, 27, 84, 87, 84, 18, 93, 18, 54, 21, 39, 87, 90, 18, 75, 78, 42, 48, 75, 87, 51, 42, 69, 42, 93, 72, 18, 15, 60, 84, 39]\n"
     ]
    }
   ],
   "source": [
    "## Intakes a list and returns a new list containing only values in the original list that are divisible by three\n",
    "\n",
    "\n",
    "def divisible_by_three(arr):\n",
    "    new_list = []\n",
    "    for i in arr:\n",
    "        if i % 3 == 0:\n",
    "            new_list.append(i)\n",
    "    return new_list\n",
    "\n",
    "new_list = divisible_by_three(rand_nums)\n",
    "print(new_list)"
   ]
  },
  {
   "cell_type": "markdown",
   "metadata": {},
   "source": [
    "### 3. Calculate the length of these two lists and store the difference in a new variable"
   ]
  },
  {
   "cell_type": "code",
   "execution_count": 10,
   "metadata": {},
   "outputs": [
    {
     "name": "stdout",
     "output_type": "stream",
     "text": [
      "Random Number List Length: 100\n",
      "New List Length: 33\n",
      "Diff is: 67\n"
     ]
    }
   ],
   "source": [
    "len_rand_list = len(rand_nums)\n",
    "len_new_list = len(new_list)\n",
    "list_diff = len_rand_list - len_new_list\n",
    "\n",
    "\n",
    "print(\"Random Number List Length: {}\".format(len_rand_list))\n",
    "print(\"New List Length: {}\".format(len_new_list))\n",
    "print(\"Diff is: {}\".format(list_diff))"
   ]
  },
  {
   "cell_type": "markdown",
   "metadata": {},
   "source": [
    "### 4. Using a loop, perform steps 2 and 3 and find the difference variable three times"
   ]
  },
  {
   "cell_type": "code",
   "execution_count": 11,
   "metadata": {},
   "outputs": [
    {
     "name": "stdout",
     "output_type": "stream",
     "text": [
      "Diff List: [67, 67, 67]\n"
     ]
    }
   ],
   "source": [
    "## In order to get different results, I'll need to regenerate the random numbers list, \n",
    "## else I'll just get the same return\n",
    "\n",
    "runs = 3\n",
    "\n",
    "diff_list_len = []\n",
    "\n",
    "for i in range(0,runs):\n",
    "    first_list = generate_random_numbers()\n",
    "    second_list = divisible_by_three(first_list)\n",
    "    diff_list_len.append(len(first_list) - len(second_list))\n",
    "\n",
    "print(\"Diff List: {}\".format(diff_list_len))"
   ]
  },
  {
   "cell_type": "markdown",
   "metadata": {},
   "source": [
    "### 5. Find the arithmetic mean of these three difference values"
   ]
  },
  {
   "cell_type": "code",
   "execution_count": 12,
   "metadata": {},
   "outputs": [
    {
     "data": {
      "text/plain": [
       "67.0"
      ]
     },
     "execution_count": 12,
     "metadata": {},
     "output_type": "execute_result"
    }
   ],
   "source": [
    "def mean(arr, digits = 2):\n",
    "    \"\"\"Calculates the arithmetic mean of an array\"\"\"\n",
    "    summer = 0\n",
    "    for i in arr:\n",
    "        summer += i\n",
    "    return round(summer/len(arr), digits)\n",
    "\n",
    "mean(diff_list_len)"
   ]
  },
  {
   "cell_type": "markdown",
   "metadata": {},
   "source": [
    "# Activity 2: Analyze a Multiline String and Generate the Unique Word Count\n",
    "\n",
    "This section will ensure that you have understood the various basic data structrues and their manipulation. We will do that by going though an activity that has been designed specifically for this purpose:\n",
    "<br>\n",
    "<br>\n",
    "In this activity, we will do the following:\n",
    "\n",
    "- Get multiline text and save it in a Python variable <br>\n",
    "\n",
    "- Get rid of all new lines in it using string methods<br>\n",
    "\n",
    "- Get all the unique words and their occurences from the string <br>\n",
    "\n",
    "- Repeat the step to find all unique words and occurrences, without considering case sensitivity <br>"
   ]
  },
  {
   "cell_type": "markdown",
   "metadata": {},
   "source": [
    "> **Note** <br>\n",
    ">For the sake of simpliity for this activity, the original text (which can  be found at https://www.gutenberg.org/files/1342/1342-h/1342-h.htm) has been pre-processed a bit"
   ]
  },
  {
   "cell_type": "markdown",
   "metadata": {},
   "source": [
    "# These are the steps to guide you through solving this activity:<br>\n",
    "### 1. Create a `multiline_text` variable by copying the text from the first chapter of *Pride and Prejudice.\n",
    "\n",
    ">**Note**<br>\n",
    "The first chapter of *Pride and Prejudice* by Jane Austen has been made available on the GitHub repository at http://github.com/TrainingByPackt/Data-Wrangling-with-Python/blob/master/Chapter01/Activity02/"
   ]
  },
  {
   "cell_type": "code",
   "execution_count": 23,
   "metadata": {},
   "outputs": [],
   "source": [
    "## importing string\n",
    "\n",
    "import string"
   ]
  },
  {
   "cell_type": "code",
   "execution_count": 24,
   "metadata": {},
   "outputs": [],
   "source": [
    "## Pride and Prejudice by Jane Austen \n",
    "## Pulled from this URL - https://www.gutenberg.org/files/1342/1342-h/1342-h.htm#link2HCH0001\n",
    "\n",
    "\n",
    "multiline_text = \"\"\"It is a truth universally acknowledged, that a single man in possession of a good fortune, must be in want of a wife. \n",
    "\n",
    "However little known the feelings or views of such a man may be on his first entering a neighbourhood, this truth is so well fixed in the minds of the surrounding families, that he is considered the rightful property of some one or other of their daughters.\n",
    "\n",
    "\"My dear Mr. Bennet,\" said his lady to him one day, \"have you heard that Netherfield Park is let at last?\"\n",
    "\n",
    "Mr. Bennet replied that he had not.\n",
    "\n",
    "\"But it is,\" returned she; \"for Mrs. Long has just been here, and she told me all about it.\"\n",
    "\n",
    "Mr. Bennet made no answer.\n",
    "\n",
    "\"Do you not want to know who has taken it?\" cried his wife impatiently.\n",
    "\n",
    "\"You want to tell me, and I have no objection to hearing it.\"\n",
    "\n",
    "This was invitation enough.\n",
    "\n",
    "\"Why, my dear, you must know, Mrs. Long says that Netherfield is taken by a young man of large fortune from the north of England; that he came down on Monday in a chaise and four to see the place, and was so much delighted with it, that he agreed with Mr. Morris immediately; that he is to take possession before Michaelmas, and some of his servants are to be in the house by the end of next week.\"\n",
    "\n",
    "\"What is his name?\"\n",
    "\n",
    "\"Bingley.\"\n",
    "\n",
    "\"Is he married or single?\"\n",
    "\n",
    "\"Oh! Single, my dear, to be sure! A single man of large fortune; four or five thousand a year. What a fine thing for our girls!\"\n",
    "\n",
    "\"How so? How can it affect them?\"\n",
    "\n",
    "\"My dear Mr. Bennet,\" replied his wife, \"how can you be so tiresome! You must know that I am thinking of his marrying one of them.\"\n",
    "\n",
    "\"Is that his design in settling here?\"\n",
    "\n",
    "\"Design! Nonsense, how can you talk so! But it is very likely that he may fall in love with one of them, and therefore you must visit him as soon as he comes.\"\n",
    "\n",
    "\"I see no occasion for that. You and the girls may go, or you may send them by themselves, which perhaps will be still better, for as you are as handsome as any of them, Mr. Bingley may like you the best of the party.\"\n",
    "\n",
    "\"My dear, you flatter me. I certainly have had my share of beauty, but I do not pretend to be anything extraordinary now. When a woman has five grown-up daughters, she ought to give over thinking of her own beauty.\"\n",
    "\n",
    "\"In such cases, a woman has not often much beauty to think of.\"\n",
    "\n",
    "\"But, my dear, you must indeed go and see Mr. Bingley when he comes into the neighbourhood.\"\n",
    "\n",
    "\"It is more than I engage for, I assure you.\"\n",
    "\n",
    "\"But consider your daughters. Only think what an establishment it would be for one of them. Sir William and Lady Lucas are determined to go, merely on that account, for in general, you know, they visit no newcomers. Indeed you must go, for it will be impossible for us to visit him if you do not.\"\n",
    "\n",
    "\"You are over-scrupulous, surely. I dare say Mr. Bingley will be very glad to see you; and I will send a few lines by you to assure him of my hearty consent to his marrying whichever he chooses of the girls; though I must throw in a good word for my little Lizzy.\"\n",
    "\n",
    "\"I desire you will do no such thing. Lizzy is not a bit better than the others; and I am sure she is not half so handsome as Jane, nor half so good-humoured as Lydia. But you are always giving her the preference.\"\n",
    "\n",
    "\"They have none of them much to recommend them,\" replied he; \"they are all silly and ignorant like other girls; but Lizzy has something more of quickness than her sisters.\"\n",
    "\n",
    "\"Mr. Bennet, how can you abuse your own children in such a way? You take delight in vexing me. You have no compassion for my poor nerves.\"\n",
    "\n",
    "\"You mistake me, my dear. I have a high respect for your nerves. They are my old friends. I have heard you mention them with consideration these last twenty years at least.\"\n",
    "\n",
    "\"Ah, you do not know what I suffer.\"\n",
    "\n",
    "\"But I hope you will get over it, and live to see many young men of four thousand a year come into the neighbourhood.\"\n",
    "\"\"\n",
    "\"It will be no use to us, if twenty such should come, since you will not visit them.\"\n",
    "\n",
    "\"Depend upon it, my dear, that when there are twenty, I will visit them all.\"\n",
    "\n",
    "Mr. Bennet was so odd a mixture of quick parts, sarcastic humour, reserve, and caprice, that the experience of three-and-twenty years had been insufficient to make his wife understand his character. Her mind was less difficult to develop. She was a woman of mean understanding, little information, and uncertain temper. When she was discontented, she fancied herself nervous. The business of her life was to get her daughters married; its solace was visiting and news. \"\"\""
   ]
  },
  {
   "cell_type": "markdown",
   "metadata": {},
   "source": [
    "### 2. Find the type and length of the `multiline_text` string using the commands `type` and `len`"
   ]
  },
  {
   "cell_type": "code",
   "execution_count": 25,
   "metadata": {},
   "outputs": [
    {
     "data": {
      "text/plain": [
       "str"
      ]
     },
     "execution_count": 25,
     "metadata": {},
     "output_type": "execute_result"
    }
   ],
   "source": [
    "type(multiline_text)"
   ]
  },
  {
   "cell_type": "code",
   "execution_count": 26,
   "metadata": {},
   "outputs": [
    {
     "data": {
      "text/plain": [
       "4478"
      ]
     },
     "execution_count": 26,
     "metadata": {},
     "output_type": "execute_result"
    }
   ],
   "source": [
    "len(multiline_text)"
   ]
  },
  {
   "cell_type": "markdown",
   "metadata": {},
   "source": [
    "### 3. Remove all new lines and symbols using the `replace` function."
   ]
  },
  {
   "cell_type": "code",
   "execution_count": 17,
   "metadata": {},
   "outputs": [
    {
     "data": {
      "text/plain": [
       "'It is a truth universally acknowledged that a single man in possession of a good fortune must be in want of a wife  '"
      ]
     },
     "execution_count": 17,
     "metadata": {},
     "output_type": "execute_result"
    }
   ],
   "source": [
    "multiline_text = multiline_text.replace(\"\\n\", \" \")\n",
    "multiline_text = multiline_text.translate(multiline_text.maketrans(\"\", \"\", string.punctuation))#.lower()\n",
    "\n",
    "multiline_text[:116]"
   ]
  },
  {
   "cell_type": "markdown",
   "metadata": {},
   "source": [
    "### 4. Find all the words in `multiline_text` using the `split` function.**"
   ]
  },
  {
   "cell_type": "code",
   "execution_count": 18,
   "metadata": {},
   "outputs": [
    {
     "name": "stdout",
     "output_type": "stream",
     "text": [
      "['It', 'is', 'a', 'truth', 'universally', 'acknowledged', 'that', 'a', 'single', 'man', 'in', 'possession', 'of', 'a', 'good', 'fortune', 'must', 'be', 'in', 'want', 'of', 'a', 'wife', 'However', 'little', 'known']\n"
     ]
    }
   ],
   "source": [
    "multiline_text = multiline_text.split(\" \")\n",
    "multiline_text = [i for i in multiline_text if i]\n",
    "print(multiline_text[:26])"
   ]
  },
  {
   "cell_type": "markdown",
   "metadata": {},
   "source": [
    "### 5. Create a list from this list that will contain only the unique words.**"
   ]
  },
  {
   "cell_type": "code",
   "execution_count": 19,
   "metadata": {},
   "outputs": [],
   "source": [
    "new_list = []\n",
    "for i in multiline_text:\n",
    "    if i not in new_list:\n",
    "        new_list.append(i)"
   ]
  },
  {
   "cell_type": "code",
   "execution_count": 20,
   "metadata": {},
   "outputs": [
    {
     "data": {
      "text/plain": [
       "True"
      ]
     },
     "execution_count": 20,
     "metadata": {},
     "output_type": "execute_result"
    }
   ],
   "source": [
    "# We can compare the list to the set which removes all duplicate values to verify our method worked\n",
    "len(new_list) == len(set(multiline_text))"
   ]
  },
  {
   "cell_type": "markdown",
   "metadata": {},
   "source": [
    "### 6. Count the number of times the unique word has appeared in the list using the `key` and `value` in `dict`**"
   ]
  },
  {
   "cell_type": "code",
   "execution_count": 21,
   "metadata": {},
   "outputs": [],
   "source": [
    "word_dictionary = dict()\n",
    "\n",
    "for word in multiline_text:\n",
    "    if word in word_dictionary:\n",
    "        word_dictionary[word] += 1\n",
    "    else:\n",
    "        word_dictionary[word] = 1"
   ]
  },
  {
   "cell_type": "markdown",
   "metadata": {},
   "source": [
    "### 7. Find the top 25 words from the unique words that you have found using the `slice` function**<br>\n",
    "\n",
    "You just created, step by step, a unique word counter using all the neat tricks that you learned about in this chapter."
   ]
  },
  {
   "cell_type": "code",
   "execution_count": 22,
   "metadata": {
    "scrolled": false
   },
   "outputs": [
    {
     "name": "stdout",
     "output_type": "stream",
     "text": [
      "-----------------------------------\n",
      "|       Pride and Prejudice       |\n",
      "-----------------------------------\n",
      "|     1 | of             |     29 |\n",
      "|     2 | you            |     24 |\n",
      "|     3 | to             |     22 |\n",
      "|     4 | a              |     20 |\n",
      "|     5 | the            |     17 |\n",
      "|     6 | I              |     17 |\n",
      "|     7 | and            |     16 |\n",
      "|     8 | that           |     15 |\n",
      "|     9 | is             |     12 |\n",
      "|    10 | for            |     12 |\n",
      "|    11 | in             |     11 |\n",
      "|    12 | be             |     11 |\n",
      "|    13 | his            |     11 |\n",
      "|    14 | he             |     11 |\n",
      "|    15 | it             |     11 |\n",
      "|    16 | them           |     11 |\n",
      "|    17 | Mr             |     10 |\n",
      "|    18 | my             |     10 |\n",
      "|    19 | not            |      9 |\n",
      "|    20 | will           |      9 |\n",
      "|    21 | so             |      8 |\n",
      "|    22 | dear           |      8 |\n",
      "|    23 | was            |      8 |\n",
      "|    24 | are            |      8 |\n",
      "|    25 | must           |      7 |\n",
      "-----------------------------------\n"
     ]
    }
   ],
   "source": [
    "# I have no idea how slice is suppose to work for this exercise. The solution doesn't even use it\n",
    "\n",
    "print(\"-\" * 35)\n",
    "print(\"|{:^33}|\".format(\"Pride and Prejudice\"))\n",
    "print(\"-\" * 35)\n",
    "for index, key in enumerate(sorted(word_dictionary, key=word_dictionary.get, reverse=True),start = 1):\n",
    "    print(\"| {:>5} | {:15}|{:>7} |\".format(index, key, word_dictionary[key]))\n",
    "    if index == 25:\n",
    "        break\n",
    "print(\"-\" * 35)"
   ]
  },
  {
   "cell_type": "markdown",
   "metadata": {},
   "source": [
    "# Activity 3: Permutation, Iterator, Lambda LIst<br>\n",
    "In this activity, we will be using **permutations** to generate all possible three-digit numbers that can be generated using 0, 1, and 2. Then, loop over this iterator, and also use `isinstance` and `assert` to make sure that the return types are tuples. Also, use a signle line of code involving `dropwhile` and `lambda` expressions to convert all the tuples to lists while dropping an leading zeros (for example, (0,1,2) becomes [1, 2]). Finally, write a function that takes a list like b efore and returns the actual number contained in it.<br>\n",
    "\n",
    "These steps will guide you to solve this activity:"
   ]
  },
  {
   "cell_type": "markdown",
   "metadata": {},
   "source": [
    "### 1. Look up the definitions of `permutation` and `dropwhile` from itertools"
   ]
  },
  {
   "cell_type": "code",
   "execution_count": 23,
   "metadata": {},
   "outputs": [],
   "source": [
    "from itertools import permutations, dropwhile"
   ]
  },
  {
   "cell_type": "code",
   "execution_count": 24,
   "metadata": {},
   "outputs": [],
   "source": [
    "?permutations"
   ]
  },
  {
   "cell_type": "markdown",
   "metadata": {},
   "source": [
    "**Init signature:** permutations(iterable, r=None)\n",
    "\n",
    "**Docstring:**     \n",
    "Return successive r-length permutations of elements in the iterable."
   ]
  },
  {
   "cell_type": "code",
   "execution_count": 25,
   "metadata": {},
   "outputs": [],
   "source": [
    "?dropwhile"
   ]
  },
  {
   "cell_type": "markdown",
   "metadata": {},
   "source": [
    "**Init signature:** dropwhile(predicate, iterable, /)\n",
    "\n",
    "**Docstring:**     \n",
    "Drop items from the iterable while predicate(item) is true."
   ]
  },
  {
   "cell_type": "markdown",
   "metadata": {},
   "source": [
    "### 2. Write and expression to generate all the possible three-digit numbers using 0, 1, and 2."
   ]
  },
  {
   "cell_type": "code",
   "execution_count": 26,
   "metadata": {},
   "outputs": [],
   "source": [
    "def number_combiner(arr):\n",
    "    nums = permutations(arr, len(arr)) \n",
    "    num_list = [i for i in nums]\n",
    "    return num_list"
   ]
  },
  {
   "cell_type": "code",
   "execution_count": 27,
   "metadata": {},
   "outputs": [
    {
     "data": {
      "text/plain": [
       "[(0, 1, 2), (0, 2, 1), (1, 0, 2), (1, 2, 0), (2, 0, 1), (2, 1, 0)]"
      ]
     },
     "execution_count": 27,
     "metadata": {},
     "output_type": "execute_result"
    }
   ],
   "source": [
    "my_nums = [0, 1, 2]\n",
    "number_combiner(my_nums)"
   ]
  },
  {
   "cell_type": "markdown",
   "metadata": {},
   "source": [
    "### 3. Loop over the iterator expression you generated before. Print each element that's returned by the iterator. Use `assert` and ` isinstance` to make sure that the elements are of the tuple type"
   ]
  },
  {
   "cell_type": "code",
   "execution_count": 28,
   "metadata": {},
   "outputs": [
    {
     "name": "stdout",
     "output_type": "stream",
     "text": [
      "| (0, 1, 2) | <class 'tuple'> |  True |\n",
      "| (0, 2, 1) | <class 'tuple'> |  True |\n",
      "| (1, 0, 2) | <class 'tuple'> |  True |\n",
      "| (1, 2, 0) | <class 'tuple'> |  True |\n",
      "| (2, 0, 1) | <class 'tuple'> |  True |\n",
      "| (2, 1, 0) | <class 'tuple'> |  True |\n"
     ]
    }
   ],
   "source": [
    "for i in number_combiner(my_nums):\n",
    "    assert type(i) == tuple\n",
    "    print(\"| {:>7} | {:>10} | {:>5} |\".format(str(i), str(type(i)), str(isinstance(i, tuple))))"
   ]
  },
  {
   "cell_type": "markdown",
   "metadata": {},
   "source": [
    "### 4. Write the loop again using `dropwhile` with a lambda expression to drop any leading zeros from the tuples. As an example, (0, 1, 2) will become (1, 2). Also, cast the output of dropwhile to a list."
   ]
  },
  {
   "cell_type": "code",
   "execution_count": 29,
   "metadata": {},
   "outputs": [
    {
     "data": {
      "text/plain": [
       "(<function __main__.<lambda>(x)>, (2, 1, 0))"
      ]
     },
     "execution_count": 29,
     "metadata": {},
     "output_type": "execute_result"
    }
   ],
   "source": [
    "x = lambda x: x == 0, i\n",
    "x"
   ]
  },
  {
   "cell_type": "code",
   "execution_count": 30,
   "metadata": {},
   "outputs": [
    {
     "name": "stdout",
     "output_type": "stream",
     "text": [
      "|   [1, 2]   | <class 'list'> |  True |\n",
      "|   [2, 1]   | <class 'list'> |  True |\n",
      "| [1, 0, 2]  | <class 'list'> |  True |\n",
      "| [1, 2, 0]  | <class 'list'> |  True |\n",
      "| [2, 0, 1]  | <class 'list'> |  True |\n",
      "| [2, 1, 0]  | <class 'list'> |  True |\n"
     ]
    }
   ],
   "source": [
    "for i in number_combiner(my_nums):\n",
    "    adj_list = list(dropwhile(lambda x: x == 0, i))\n",
    "    print(\"| {:^10} | {:>10} | {:>5} |\".format(str(adj_list), \n",
    "                                              str(type(adj_list)), \n",
    "                                              str(isinstance(adj_list, list))))"
   ]
  },
  {
   "cell_type": "markdown",
   "metadata": {},
   "source": [
    "### 5. Check the actual type that `dropwhile` returns"
   ]
  },
  {
   "cell_type": "code",
   "execution_count": 31,
   "metadata": {},
   "outputs": [
    {
     "name": "stdout",
     "output_type": "stream",
     "text": [
      "<class 'itertools.dropwhile'>\n"
     ]
    }
   ],
   "source": [
    "print(type(dropwhile(1,[1,2])))"
   ]
  },
  {
   "cell_type": "markdown",
   "metadata": {},
   "source": [
    "### 6. Combine the preceding code into one block, and this time write a separate function where you will pass the list generated from `dropwhile`, and the function will return the whole number contained in the list. As an example, if you pass [1, 2] to the function, it will return 12. Make sure that the return type is indeed a number and not a string. Although, this task can be achieved using other tricks, we require that you treat the incoming list as a stack in the function and generate the number by reading the individual digits from the stack."
   ]
  },
  {
   "cell_type": "code",
   "execution_count": 32,
   "metadata": {},
   "outputs": [
    {
     "name": "stdout",
     "output_type": "stream",
     "text": [
      "|     12     | <class 'int'> |  True |\n",
      "|     21     | <class 'int'> |  True |\n",
      "|    102     | <class 'int'> |  True |\n",
      "|    120     | <class 'int'> |  True |\n",
      "|    201     | <class 'int'> |  True |\n",
      "|    210     | <class 'int'> |  True |\n"
     ]
    }
   ],
   "source": [
    "# Using String Concatenation\n",
    "\n",
    "for i in number_combiner(my_nums):\n",
    "    adj_list = list(dropwhile(lambda x: x <= 0, i)) #  drop all the leading zeros\n",
    "    new_nums = []  # Create a new list for the merged numbers\n",
    "    temp_string = \"\" #  Create an empty string to start merging numbers together\n",
    "    for j in adj_list:  # Iterate over the new list\n",
    "        temp_string += str(j)  # Add the string version of our integer to the string (needs to be string to avoid addition)\n",
    "    temp_string = int(temp_string) # Convert the string back into an integer\n",
    "    new_nums.append(temp_string) # Add the integer to the new list\n",
    "    print(\"| {:^10} | {:>10} | {:>5} |\".format(str(temp_string), \n",
    "                                              str(type(temp_string)), \n",
    "                                              str(isinstance(temp_string, int))))"
   ]
  },
  {
   "cell_type": "code",
   "execution_count": 33,
   "metadata": {},
   "outputs": [
    {
     "name": "stdout",
     "output_type": "stream",
     "text": [
      "|     12     | <class 'int'> |  True |\n",
      "|     21     | <class 'int'> |  True |\n",
      "|    102     | <class 'int'> |  True |\n",
      "|    120     | <class 'int'> |  True |\n",
      "|    201     | <class 'int'> |  True |\n",
      "|    210     | <class 'int'> |  True |\n"
     ]
    }
   ],
   "source": [
    "## importing math package\n",
    "\n",
    "import math\n",
    "\n",
    "for i in number_combiner(my_nums):\n",
    "    adj_list = list(dropwhile(lambda x: x <= 0, i)) #  drop all the leading zeros\n",
    "    new_nums = []  # Create a new list for the merged numbers\n",
    "    summer = 0 # Init a variable to sum to\n",
    "    for ind, j in enumerate(adj_list[::-1]):  # Iterate over the the reversed list with enumeration\n",
    "        summer += int((math.pow(10,ind)*j)) # Use pow to increase to add a power of ten to each value passed and add it to the summer\n",
    "    new_nums.append(summer) # Add the integer to the new list\n",
    "    print(\"| {:^10} | {:>10} | {:>5} |\".format(str(summer), \n",
    "                                              str(type(temp_string)), \n",
    "                                              str(isinstance(temp_string, int))))"
   ]
  },
  {
   "attachments": {
    "image.png": {
     "image/png": "[encoded data removed]"
    }
   },
   "cell_type": "markdown",
   "metadata": {},
   "source": [
    "# Activity 4: Design Your Own CSV Parser<br>\n",
    "A CSV file is something you will encounter a lot in your life as a data practitioner. A CSV is a comma-separated file where data from a tabilar format is generally stored and separated using commas, although other characters can also be used.\n",
    "\n",
    "In this activity, we will be tasked with building our own CSV reader and parser. Although it's a big task if we try to cover all use cases and edge cases, along with escape characters and all, for the sake of this small activity, we will keep our requirements small. We will assume that there is no escape character, meaning that if you use a comma at any place in your row, it means you are starting a new column. We will also assume that the only function we are interested in is to be able to read a CSV file line by line where each read will generate a new dict with the column names as keys and row anmes as values.\n",
    "\n",
    "Here is an example. \n",
    "\n",
    "![image.png](attachment:image.png)\n",
    "\n",
    "We can convert the data in the preceding table into a Python dictionary, which would look as follows: `{\"Name\": \"Bob\", \"Age\": \"24\", \"Location\": \"California\"}:`"
   ]
  },
  {
   "cell_type": "code",
   "execution_count": 34,
   "metadata": {},
   "outputs": [
    {
     "data": {
      "text/plain": [
       "{'Name': 'Bob', 'Age': '24', 'Location': 'California'}"
      ]
     },
     "execution_count": 34,
     "metadata": {},
     "output_type": "execute_result"
    }
   ],
   "source": [
    "our_dict = {\"Name\":\"Bob\", \"Age\":\"24\", \"Location\":\"California\"}\n",
    "our_dict"
   ]
  },
  {
   "cell_type": "markdown",
   "metadata": {},
   "source": [
    "### 1. Import `zip_longest` from itertools. Create a function to zip `header`, `line` and `fillvalue=None`**"
   ]
  },
  {
   "cell_type": "code",
   "execution_count": 35,
   "metadata": {},
   "outputs": [],
   "source": [
    "from itertools import zip_longest"
   ]
  },
  {
   "cell_type": "code",
   "execution_count": 36,
   "metadata": {},
   "outputs": [],
   "source": [
    "def zipper(header, line):\n",
    "    zipped_line = zip_longest(header, line, fillvalue=None)\n",
    "    return_dict = dict()\n",
    "    for key, value in zipped_line:\n",
    "        return_dict[key] = value\n",
    "    return return_dict"
   ]
  },
  {
   "cell_type": "markdown",
   "metadata": {},
   "source": [
    "### 2. Open the accompanying `sales_record.csv` file from the Github link by using `r` mode inside a with block and first check that it is opened**"
   ]
  },
  {
   "cell_type": "code",
   "execution_count": 37,
   "metadata": {},
   "outputs": [
    {
     "name": "stdout",
     "output_type": "stream",
     "text": [
      "Region,Country,Item Type,Sales Channel,Order Priority,Order Date,Order ID,Ship Date,Units Sold,Unit Price,Unit Cost,Total Revenue,Total Cost,Total Profit\n",
      "\n",
      "Central America and the Caribbean,Antigua and Barbuda ,Baby Food,Online,M,12/20/2013,957081544,1/11/2014,552,255.28,159.42,140914.56,87999.84,52914.72\n",
      "\n",
      "Central America and the Caribbean,Panama,Snacks,Offline,C,7/5/2010,301644504,7/26/2010,2167,152.58,97.44,330640.86,211152.48,119488.38\n",
      "\n",
      "Europe,Czech Republic,Beverages,Offline,C,9/12/2011,478051030,9/29/2011,4778,47.45,31.79,226716.10,151892.62,74823.48\n",
      "\n",
      "Asia,North Korea,Cereal,Offline,L,5/13/2010,892599952,6/15/2010,9016,205.70,117.11,1854591.20,1055863.76,798727.44\n",
      "\n",
      "Asia,Sri Lanka,Snacks,Offline,C,7/20/2015,571902596,7/27/2015,7542,152.58,97.44,1150758.36,734892.48,415865.88\n",
      "\n",
      "Middle East and North Africa,Morocco,Personal Care,Offline,L,11/8/2010,412882792,11/22/2010,48,81.73,56.67,3923.04,2720.16,1202.88\n",
      "\n",
      "Australia and Oceania,Federated States of Micronesia,Clothes,Offline,H,3/28/2011,932776868,5/10/2011,8258,109.28,35.84,902434.24,295966.72,606467.52\n",
      "\n",
      "Europe,Bosnia and Herzegovina,Clothes,Online,M,10/14/2013,919133651,11/4/2013,927,109.28,35.84,101302.56,33223.68,68078.88\n",
      "\n",
      "Middle East and North Africa,Afghanistan,Clothes,Offline,M,8/27/2016,579814469,10/5/2016,8841,109.28,35.84,966144.48,316861.44,649283.04\n",
      "\n",
      "Sub-Saharan Africa,Ethiopia,Baby Food,Online,M,4/13/2015,192993152,5/7/2015,9817,255.28,159.42,2506083.76,1565026.14,941057.62\n",
      "\n",
      "Middle East and North Africa,Turkey,Office Supplies,Offline,C,9/25/2013,557156026,10/15/2013,3704,651.21,524.96,2412081.84,1944451.84,467630.00\n",
      "\n"
     ]
    }
   ],
   "source": [
    "with open(\"sales_record.csv\", \"r\") as file:\n",
    "    for i, line in enumerate(file):\n",
    "        print(line)\n",
    "        if i > 10:\n",
    "            break"
   ]
  },
  {
   "cell_type": "markdown",
   "metadata": {},
   "source": [
    "### 3. Read the first line and use string methods to generate a list of all column names"
   ]
  },
  {
   "cell_type": "code",
   "execution_count": 38,
   "metadata": {},
   "outputs": [
    {
     "name": "stdout",
     "output_type": "stream",
     "text": [
      "['Region', 'Country', 'Item Type', 'Sales Channel', 'Order Priority', 'Order Date', 'Order ID', 'Ship Date', 'Units Sold', 'Unit Price', 'Unit Cost', 'Total Revenue', 'Total Cost', 'Total Profit']\n"
     ]
    }
   ],
   "source": [
    "with open(\"sales_record.csv\", \"r\") as file:\n",
    "    column_names = file.readline()\n",
    "    column_names = column_names.replace(\"\\n\", \"\").split(\",\")\n",
    "    print(column_names)"
   ]
  },
  {
   "cell_type": "markdown",
   "metadata": {},
   "source": [
    "### 4. Start reading the file. Read it line by line.**"
   ]
  },
  {
   "cell_type": "code",
   "execution_count": 39,
   "metadata": {},
   "outputs": [],
   "source": [
    "#display(HTML(\"<style>.container { width:210% !important; }</style>\"))"
   ]
  },
  {
   "cell_type": "code",
   "execution_count": 40,
   "metadata": {},
   "outputs": [
    {
     "name": "stdout",
     "output_type": "stream",
     "text": [
      "['Region', 'Country', 'Item Type', 'Sales Channel', 'Order Priority', 'Order Date', 'Order ID', 'Ship Date', 'Units Sold', 'Unit Price', 'Unit Cost', 'Total Revenue', 'Total Cost', 'Total Profit']\n",
      "Central America and the Caribbean,Antigua and Barbuda ,Baby Food,Online,M,12/20/2013,957081544,1/11/2014,552,255.28,159.42,140914.56,87999.84,52914.72\n",
      "\n",
      "Central America and the Caribbean,Panama,Snacks,Offline,C,7/5/2010,301644504,7/26/2010,2167,152.58,97.44,330640.86,211152.48,119488.38\n",
      "\n",
      "Europe,Czech Republic,Beverages,Offline,C,9/12/2011,478051030,9/29/2011,4778,47.45,31.79,226716.10,151892.62,74823.48\n",
      "\n",
      "Asia,North Korea,Cereal,Offline,L,5/13/2010,892599952,6/15/2010,9016,205.70,117.11,1854591.20,1055863.76,798727.44\n",
      "\n",
      "Asia,Sri Lanka,Snacks,Offline,C,7/20/2015,571902596,7/27/2015,7542,152.58,97.44,1150758.36,734892.48,415865.88\n",
      "\n",
      "Middle East and North Africa,Morocco,Personal Care,Offline,L,11/8/2010,412882792,11/22/2010,48,81.73,56.67,3923.04,2720.16,1202.88\n",
      "\n",
      "Australia and Oceania,Federated States of Micronesia,Clothes,Offline,H,3/28/2011,932776868,5/10/2011,8258,109.28,35.84,902434.24,295966.72,606467.52\n",
      "\n",
      "Europe,Bosnia and Herzegovina,Clothes,Online,M,10/14/2013,919133651,11/4/2013,927,109.28,35.84,101302.56,33223.68,68078.88\n",
      "\n",
      "Middle East and North Africa,Afghanistan,Clothes,Offline,M,8/27/2016,579814469,10/5/2016,8841,109.28,35.84,966144.48,316861.44,649283.04\n",
      "\n",
      "Sub-Saharan Africa,Ethiopia,Baby Food,Online,M,4/13/2015,192993152,5/7/2015,9817,255.28,159.42,2506083.76,1565026.14,941057.62\n",
      "\n",
      "Middle East and North Africa,Turkey,Office Supplies,Offline,C,9/25/2013,557156026,10/15/2013,3704,651.21,524.96,2412081.84,1944451.84,467630.00\n",
      "\n",
      "Middle East and North Africa,Oman,Cosmetics,Online,M,5/12/2013,741101920,5/17/2013,7382,437.20,263.33,3227410.40,1943902.06,1283508.34\n",
      "\n",
      "Asia,Malaysia,Cereal,Offline,L,7/31/2016,333942162,8/25/2016,9762,205.70,117.11,2008043.40,1143227.82,864815.58\n",
      "\n",
      "Central America and the Caribbean,Saint Lucia,Cosmetics,Offline,H,7/6/2015,795100581,7/16/2015,6786,437.20,263.33,2966839.20,1786957.38,1179881.82\n",
      "\n",
      "Central America and the Caribbean,Saint Vincent and the Grenadines,Baby Food,Online,L,11/28/2010,504313504,12/3/2010,6428,255.28,159.42,1640939.84,1024751.76,616188.08\n",
      "\n",
      "Middle East and North Africa,Lebanon,Meat,Offline,H,12/17/2015,611629760,1/31/2016,3693,421.89,364.69,1558039.77,1346800.17,211239.60\n",
      "\n",
      "Europe,Austria,Cereal,Offline,C,8/13/2014,987410676,9/6/2014,5616,205.70,117.11,1155211.20,657689.76,497521.44\n",
      "\n",
      "Europe,Bulgaria,Office Supplies,Online,L,10/31/2010,672330081,11/29/2010,6266,651.21,524.96,4080481.86,3289399.36,791082.50\n",
      "\n",
      "North America,Mexico,Beverages,Online,C,3/13/2017,127374303,3/20/2017,1742,47.45,31.79,82657.90,55378.18,27279.72\n",
      "\n",
      "Central America and the Caribbean,Trinidad and Tobago,Baby Food,Offline,C,4/16/2013,783842170,6/1/2013,5172,255.28,159.42,1320308.16,824520.24,495787.92\n",
      "\n",
      "Middle East and North Africa,Libya,Beverages,Offline,L,1/18/2010,993345010,3/3/2010,1718,47.45,31.79,81519.10,54615.22,26903.88\n",
      "\n",
      "Middle East and North Africa,Algeria,Baby Food,Offline,M,9/5/2015,977806651,10/14/2015,3572,255.28,159.42,911860.16,569448.24,342411.92\n",
      "\n"
     ]
    }
   ],
   "source": [
    "with open(\"sales_record.csv\", \"r\") as file:\n",
    "    column_names = file.readline()\n",
    "    column_names = column_names.replace(\"\\n\", \"\").split(\",\")\n",
    "    print(column_names)\n",
    "    for i, line in enumerate(file):\n",
    "        print(line)\n",
    "        if i > 20:\n",
    "            break"
   ]
  },
  {
   "cell_type": "code",
   "execution_count": 41,
   "metadata": {
    "scrolled": false
   },
   "outputs": [
    {
     "name": "stdout",
     "output_type": "stream",
     "text": [
      " Region                              | Country                             | Item Type                           | Sales Channel                       | Order Priority                      | Order Date                          | Order ID                            | Ship Date                           | Units Sold                          | Unit Price                          | Unit Cost                           | Total Revenue                       | Total Cost                          | Total Profit                        |\n",
      "----------------------------------------------------------------------------------------------------------------------------------------------------------------------------------------------------------------------------------------------------------------------------------------------------------------------------------------------------------------------------------------------------------------------------------------------------------------------------------------------------------------------------------------------------\n",
      " Central America and the Caribbean   | Antigua and Barbuda                 | Baby Food                           | Online                              | M                                   | 12/20/2013                          | 957081544                           | 1/11/2014                           | 552                                 | 255.28                              | 159.42                              | 140914.56                           | 87999.84                            | 52914.72                            |\n",
      " Central America and the Caribbean   | Panama                              | Snacks                              | Offline                             | C                                   | 7/5/2010                            | 301644504                           | 7/26/2010                           | 2167                                | 152.58                              | 97.44                               | 330640.86                           | 211152.48                           | 119488.38                           |\n",
      " Europe                              | Czech Republic                      | Beverages                           | Offline                             | C                                   | 9/12/2011                           | 478051030                           | 9/29/2011                           | 4778                                | 47.45                               | 31.79                               | 226716.10                           | 151892.62                           | 74823.48                            |\n",
      " Asia                                | North Korea                         | Cereal                              | Offline                             | L                                   | 5/13/2010                           | 892599952                           | 6/15/2010                           | 9016                                | 205.70                              | 117.11                              | 1854591.20                          | 1055863.76                          | 798727.44                           |\n",
      " Asia                                | Sri Lanka                           | Snacks                              | Offline                             | C                                   | 7/20/2015                           | 571902596                           | 7/27/2015                           | 7542                                | 152.58                              | 97.44                               | 1150758.36                          | 734892.48                           | 415865.88                           |\n",
      " Middle East and North Africa        | Morocco                             | Personal Care                       | Offline                             | L                                   | 11/8/2010                           | 412882792                           | 11/22/2010                          | 48                                  | 81.73                               | 56.67                               | 3923.04                             | 2720.16                             | 1202.88                             |\n",
      " Australia and Oceania               | Federated States of Micronesia      | Clothes                             | Offline                             | H                                   | 3/28/2011                           | 932776868                           | 5/10/2011                           | 8258                                | 109.28                              | 35.84                               | 902434.24                           | 295966.72                           | 606467.52                           |\n",
      " Europe                              | Bosnia and Herzegovina              | Clothes                             | Online                              | M                                   | 10/14/2013                          | 919133651                           | 11/4/2013                           | 927                                 | 109.28                              | 35.84                               | 101302.56                           | 33223.68                            | 68078.88                            |\n",
      " Middle East and North Africa        | Afghanistan                         | Clothes                             | Offline                             | M                                   | 8/27/2016                           | 579814469                           | 10/5/2016                           | 8841                                | 109.28                              | 35.84                               | 966144.48                           | 316861.44                           | 649283.04                           |\n",
      " Sub-Saharan Africa                  | Ethiopia                            | Baby Food                           | Online                              | M                                   | 4/13/2015                           | 192993152                           | 5/7/2015                            | 9817                                | 255.28                              | 159.42                              | 2506083.76                          | 1565026.14                          | 941057.62                           |\n",
      " Middle East and North Africa        | Turkey                              | Office Supplies                     | Offline                             | C                                   | 9/25/2013                           | 557156026                           | 10/15/2013                          | 3704                                | 651.21                              | 524.96                              | 2412081.84                          | 1944451.84                          | 467630.00                           |\n",
      " Middle East and North Africa        | Oman                                | Cosmetics                           | Online                              | M                                   | 5/12/2013                           | 741101920                           | 5/17/2013                           | 7382                                | 437.20                              | 263.33                              | 3227410.40                          | 1943902.06                          | 1283508.34                          |\n",
      " Asia                                | Malaysia                            | Cereal                              | Offline                             | L                                   | 7/31/2016                           | 333942162                           | 8/25/2016                           | 9762                                | 205.70                              | 117.11                              | 2008043.40                          | 1143227.82                          | 864815.58                           |\n",
      " Central America and the Caribbean   | Saint Lucia                         | Cosmetics                           | Offline                             | H                                   | 7/6/2015                            | 795100581                           | 7/16/2015                           | 6786                                | 437.20                              | 263.33                              | 2966839.20                          | 1786957.38                          | 1179881.82                          |\n",
      " Central America and the Caribbean   | Saint Vincent and the Grenadines    | Baby Food                           | Online                              | L                                   | 11/28/2010                          | 504313504                           | 12/3/2010                           | 6428                                | 255.28                              | 159.42                              | 1640939.84                          | 1024751.76                          | 616188.08                           |\n",
      " Middle East and North Africa        | Lebanon                             | Meat                                | Offline                             | H                                   | 12/17/2015                          | 611629760                           | 1/31/2016                           | 3693                                | 421.89                              | 364.69                              | 1558039.77                          | 1346800.17                          | 211239.60                           |\n",
      " Europe                              | Austria                             | Cereal                              | Offline                             | C                                   | 8/13/2014                           | 987410676                           | 9/6/2014                            | 5616                                | 205.70                              | 117.11                              | 1155211.20                          | 657689.76                           | 497521.44                           |\n",
      " Europe                              | Bulgaria                            | Office Supplies                     | Online                              | L                                   | 10/31/2010                          | 672330081                           | 11/29/2010                          | 6266                                | 651.21                              | 524.96                              | 4080481.86                          | 3289399.36                          | 791082.50                           |\n",
      " North America                       | Mexico                              | Beverages                           | Online                              | C                                   | 3/13/2017                           | 127374303                           | 3/20/2017                           | 1742                                | 47.45                               | 31.79                               | 82657.90                            | 55378.18                            | 27279.72                            |\n",
      " Central America and the Caribbean   | Trinidad and Tobago                 | Baby Food                           | Offline                             | C                                   | 4/16/2013                           | 783842170                           | 6/1/2013                            | 5172                                | 255.28                              | 159.42                              | 1320308.16                          | 824520.24                           | 495787.92                           |\n",
      " Middle East and North Africa        | Libya                               | Beverages                           | Offline                             | L                                   | 1/18/2010                           | 993345010                           | 3/3/2010                            | 1718                                | 47.45                               | 31.79                               | 81519.10                            | 54615.22                            | 26903.88                            |\n",
      " Middle East and North Africa        | Algeria                             | Baby Food                           | Offline                             | M                                   | 9/5/2015                            | 977806651                           | 10/14/2015                          | 3572                                | 255.28                              | 159.42                              | 911860.16                           | 569448.24                           | 342411.92                           |\n"
     ]
    }
   ],
   "source": [
    "with open(\"sales_record.csv\", \"r\") as file:\n",
    "    column_names = file.readline()\n",
    "    column_names = column_names.replace(\"\\n\", \"\").split(\",\")\n",
    "    print(str(len(column_names)*\" {:<35} |\").format(*column_names))\n",
    "    print(len((str(len(column_names)*\" {:^35} |\").format(*column_names)))*\"-\")\n",
    "    for i, line in enumerate(file):\n",
    "        print(str(len(column_names)*\" {:<35} |\").format(*line.replace(\"\\n\", \"\").split(\",\")))\n",
    "        if i > 20:\n",
    "            break\n",
    "    "
   ]
  },
  {
   "cell_type": "code",
   "execution_count": 42,
   "metadata": {},
   "outputs": [],
   "source": [
    "# display(HTML(\"<style>.container { width:56% !important; }</style>\"))"
   ]
  },
  {
   "cell_type": "markdown",
   "metadata": {},
   "source": [
    "### 5. Read each line and pass that line to a function along with the list of headers. The work of the function is to construct a dict out of these two and fill up the key/values. Keep in ind that a missing value should results in `None`"
   ]
  },
  {
   "cell_type": "code",
   "execution_count": 43,
   "metadata": {},
   "outputs": [
    {
     "name": "stdout",
     "output_type": "stream",
     "text": [
      "{'Region': 'Central America and the Caribbean', 'Country': 'Antigua and Barbuda ', 'Item Type': 'Baby Food', 'Sales Channel': 'Online', 'Order Priority': 'M', 'Order Date': '12/20/2013', 'Order ID': '957081544', 'Ship Date': '1/11/2014', 'Units Sold': '552', 'Unit Price': '255.28', 'Unit Cost': '159.42', 'Total Revenue': '140914.56', 'Total Cost': '87999.84', 'Total Profit': '52914.72'}\n",
      "{'Region': 'Central America and the Caribbean', 'Country': 'Panama', 'Item Type': 'Snacks', 'Sales Channel': 'Offline', 'Order Priority': 'C', 'Order Date': '7/5/2010', 'Order ID': '301644504', 'Ship Date': '7/26/2010', 'Units Sold': '2167', 'Unit Price': '152.58', 'Unit Cost': '97.44', 'Total Revenue': '330640.86', 'Total Cost': '211152.48', 'Total Profit': '119488.38'}\n",
      "{'Region': 'Europe', 'Country': 'Czech Republic', 'Item Type': 'Beverages', 'Sales Channel': 'Offline', 'Order Priority': 'C', 'Order Date': '9/12/2011', 'Order ID': '478051030', 'Ship Date': '9/29/2011', 'Units Sold': '4778', 'Unit Price': '47.45', 'Unit Cost': '31.79', 'Total Revenue': '226716.10', 'Total Cost': '151892.62', 'Total Profit': '74823.48'}\n",
      "{'Region': 'Asia', 'Country': 'North Korea', 'Item Type': 'Cereal', 'Sales Channel': 'Offline', 'Order Priority': 'L', 'Order Date': '5/13/2010', 'Order ID': '892599952', 'Ship Date': '6/15/2010', 'Units Sold': '9016', 'Unit Price': '205.70', 'Unit Cost': '117.11', 'Total Revenue': '1854591.20', 'Total Cost': '1055863.76', 'Total Profit': '798727.44'}\n",
      "{'Region': 'Asia', 'Country': 'Sri Lanka', 'Item Type': 'Snacks', 'Sales Channel': 'Offline', 'Order Priority': 'C', 'Order Date': '7/20/2015', 'Order ID': '571902596', 'Ship Date': '7/27/2015', 'Units Sold': '7542', 'Unit Price': '152.58', 'Unit Cost': '97.44', 'Total Revenue': '1150758.36', 'Total Cost': '734892.48', 'Total Profit': '415865.88'}\n",
      "{'Region': 'Middle East and North Africa', 'Country': 'Morocco', 'Item Type': 'Personal Care', 'Sales Channel': 'Offline', 'Order Priority': 'L', 'Order Date': '11/8/2010', 'Order ID': '412882792', 'Ship Date': '11/22/2010', 'Units Sold': '48', 'Unit Price': '81.73', 'Unit Cost': '56.67', 'Total Revenue': '3923.04', 'Total Cost': '2720.16', 'Total Profit': '1202.88'}\n",
      "{'Region': 'Australia and Oceania', 'Country': 'Federated States of Micronesia', 'Item Type': 'Clothes', 'Sales Channel': 'Offline', 'Order Priority': 'H', 'Order Date': '3/28/2011', 'Order ID': '932776868', 'Ship Date': '5/10/2011', 'Units Sold': '8258', 'Unit Price': '109.28', 'Unit Cost': '35.84', 'Total Revenue': '902434.24', 'Total Cost': '295966.72', 'Total Profit': '606467.52'}\n",
      "{'Region': 'Europe', 'Country': 'Bosnia and Herzegovina', 'Item Type': 'Clothes', 'Sales Channel': 'Online', 'Order Priority': 'M', 'Order Date': '10/14/2013', 'Order ID': '919133651', 'Ship Date': '11/4/2013', 'Units Sold': '927', 'Unit Price': '109.28', 'Unit Cost': '35.84', 'Total Revenue': '101302.56', 'Total Cost': '33223.68', 'Total Profit': '68078.88'}\n",
      "{'Region': 'Middle East and North Africa', 'Country': 'Afghanistan', 'Item Type': 'Clothes', 'Sales Channel': 'Offline', 'Order Priority': 'M', 'Order Date': '8/27/2016', 'Order ID': '579814469', 'Ship Date': '10/5/2016', 'Units Sold': '8841', 'Unit Price': '109.28', 'Unit Cost': '35.84', 'Total Revenue': '966144.48', 'Total Cost': '316861.44', 'Total Profit': '649283.04'}\n",
      "{'Region': 'Sub-Saharan Africa', 'Country': 'Ethiopia', 'Item Type': 'Baby Food', 'Sales Channel': 'Online', 'Order Priority': 'M', 'Order Date': '4/13/2015', 'Order ID': '192993152', 'Ship Date': '5/7/2015', 'Units Sold': '9817', 'Unit Price': '255.28', 'Unit Cost': '159.42', 'Total Revenue': '2506083.76', 'Total Cost': '1565026.14', 'Total Profit': '941057.62'}\n",
      "{'Region': 'Middle East and North Africa', 'Country': 'Turkey', 'Item Type': 'Office Supplies', 'Sales Channel': 'Offline', 'Order Priority': 'C', 'Order Date': '9/25/2013', 'Order ID': '557156026', 'Ship Date': '10/15/2013', 'Units Sold': '3704', 'Unit Price': '651.21', 'Unit Cost': '524.96', 'Total Revenue': '2412081.84', 'Total Cost': '1944451.84', 'Total Profit': '467630.00'}\n",
      "{'Region': 'Middle East and North Africa', 'Country': 'Oman', 'Item Type': 'Cosmetics', 'Sales Channel': 'Online', 'Order Priority': 'M', 'Order Date': '5/12/2013', 'Order ID': '741101920', 'Ship Date': '5/17/2013', 'Units Sold': '7382', 'Unit Price': '437.20', 'Unit Cost': '263.33', 'Total Revenue': '3227410.40', 'Total Cost': '1943902.06', 'Total Profit': '1283508.34'}\n",
      "{'Region': 'Asia', 'Country': 'Malaysia', 'Item Type': 'Cereal', 'Sales Channel': 'Offline', 'Order Priority': 'L', 'Order Date': '7/31/2016', 'Order ID': '333942162', 'Ship Date': '8/25/2016', 'Units Sold': '9762', 'Unit Price': '205.70', 'Unit Cost': '117.11', 'Total Revenue': '2008043.40', 'Total Cost': '1143227.82', 'Total Profit': '864815.58'}\n",
      "{'Region': 'Central America and the Caribbean', 'Country': 'Saint Lucia', 'Item Type': 'Cosmetics', 'Sales Channel': 'Offline', 'Order Priority': 'H', 'Order Date': '7/6/2015', 'Order ID': '795100581', 'Ship Date': '7/16/2015', 'Units Sold': '6786', 'Unit Price': '437.20', 'Unit Cost': '263.33', 'Total Revenue': '2966839.20', 'Total Cost': '1786957.38', 'Total Profit': '1179881.82'}\n",
      "{'Region': 'Central America and the Caribbean', 'Country': 'Saint Vincent and the Grenadines', 'Item Type': 'Baby Food', 'Sales Channel': 'Online', 'Order Priority': 'L', 'Order Date': '11/28/2010', 'Order ID': '504313504', 'Ship Date': '12/3/2010', 'Units Sold': '6428', 'Unit Price': '255.28', 'Unit Cost': '159.42', 'Total Revenue': '1640939.84', 'Total Cost': '1024751.76', 'Total Profit': '616188.08'}\n",
      "{'Region': 'Middle East and North Africa', 'Country': 'Lebanon', 'Item Type': 'Meat', 'Sales Channel': 'Offline', 'Order Priority': 'H', 'Order Date': '12/17/2015', 'Order ID': '611629760', 'Ship Date': '1/31/2016', 'Units Sold': '3693', 'Unit Price': '421.89', 'Unit Cost': '364.69', 'Total Revenue': '1558039.77', 'Total Cost': '1346800.17', 'Total Profit': '211239.60'}\n",
      "{'Region': 'Europe', 'Country': 'Austria', 'Item Type': 'Cereal', 'Sales Channel': 'Offline', 'Order Priority': 'C', 'Order Date': '8/13/2014', 'Order ID': '987410676', 'Ship Date': '9/6/2014', 'Units Sold': '5616', 'Unit Price': '205.70', 'Unit Cost': '117.11', 'Total Revenue': '1155211.20', 'Total Cost': '657689.76', 'Total Profit': '497521.44'}\n",
      "{'Region': 'Europe', 'Country': 'Bulgaria', 'Item Type': 'Office Supplies', 'Sales Channel': 'Online', 'Order Priority': 'L', 'Order Date': '10/31/2010', 'Order ID': '672330081', 'Ship Date': '11/29/2010', 'Units Sold': '6266', 'Unit Price': '651.21', 'Unit Cost': '524.96', 'Total Revenue': '4080481.86', 'Total Cost': '3289399.36', 'Total Profit': '791082.50'}\n",
      "{'Region': 'North America', 'Country': 'Mexico', 'Item Type': 'Beverages', 'Sales Channel': 'Online', 'Order Priority': 'C', 'Order Date': '3/13/2017', 'Order ID': '127374303', 'Ship Date': '3/20/2017', 'Units Sold': '1742', 'Unit Price': '47.45', 'Unit Cost': '31.79', 'Total Revenue': '82657.90', 'Total Cost': '55378.18', 'Total Profit': '27279.72'}\n",
      "{'Region': 'Central America and the Caribbean', 'Country': 'Trinidad and Tobago', 'Item Type': 'Baby Food', 'Sales Channel': 'Offline', 'Order Priority': 'C', 'Order Date': '4/16/2013', 'Order ID': '783842170', 'Ship Date': '6/1/2013', 'Units Sold': '5172', 'Unit Price': '255.28', 'Unit Cost': '159.42', 'Total Revenue': '1320308.16', 'Total Cost': '824520.24', 'Total Profit': '495787.92'}\n",
      "{'Region': 'Middle East and North Africa', 'Country': 'Libya', 'Item Type': 'Beverages', 'Sales Channel': 'Offline', 'Order Priority': 'L', 'Order Date': '1/18/2010', 'Order ID': '993345010', 'Ship Date': '3/3/2010', 'Units Sold': '1718', 'Unit Price': '47.45', 'Unit Cost': '31.79', 'Total Revenue': '81519.10', 'Total Cost': '54615.22', 'Total Profit': '26903.88'}\n",
      "{'Region': 'Middle East and North Africa', 'Country': 'Algeria', 'Item Type': 'Baby Food', 'Sales Channel': 'Offline', 'Order Priority': 'M', 'Order Date': '9/5/2015', 'Order ID': '977806651', 'Ship Date': '10/14/2015', 'Units Sold': '3572', 'Unit Price': '255.28', 'Unit Cost': '159.42', 'Total Revenue': '911860.16', 'Total Cost': '569448.24', 'Total Profit': '342411.92'}\n"
     ]
    }
   ],
   "source": [
    "with open(\"sales_record.csv\", \"r\") as file:\n",
    "    dict_list = []\n",
    "    column_names = file.readline()\n",
    "    column_names = column_names.replace(\"\\n\", \"\").split(\",\")\n",
    "    for i, line in enumerate(file):\n",
    "        x = line.replace(\"\\n\", \"\").split(\",\")\n",
    "        my_dict = zipper(column_names, x)\n",
    "        dict_list.append(my_dict)\n",
    "        if i > 20:\n",
    "            break\n",
    "for i in dict_list:\n",
    "    print(i)"
   ]
  },
  {
   "cell_type": "code",
   "execution_count": 44,
   "metadata": {
    "scrolled": false
   },
   "outputs": [
    {
     "data": {
      "text/html": [
       "<div>\n",
       "<style scoped>\n",
       "    .dataframe tbody tr th:only-of-type {\n",
       "        vertical-align: middle;\n",
       "    }\n",
       "\n",
       "    .dataframe tbody tr th {\n",
       "        vertical-align: top;\n",
       "    }\n",
       "\n",
       "    .dataframe thead th {\n",
       "        text-align: right;\n",
       "    }\n",
       "</style>\n",
       "<table border=\"1\" class=\"dataframe\">\n",
       "  <thead>\n",
       "    <tr style=\"text-align: right;\">\n",
       "      <th></th>\n",
       "      <th>Region</th>\n",
       "      <th>Country</th>\n",
       "      <th>Item Type</th>\n",
       "      <th>Sales Channel</th>\n",
       "      <th>Order Priority</th>\n",
       "      <th>Order Date</th>\n",
       "      <th>Order ID</th>\n",
       "      <th>Ship Date</th>\n",
       "      <th>Units Sold</th>\n",
       "      <th>Unit Price</th>\n",
       "      <th>Unit Cost</th>\n",
       "      <th>Total Revenue</th>\n",
       "      <th>Total Cost</th>\n",
       "      <th>Total Profit</th>\n",
       "    </tr>\n",
       "  </thead>\n",
       "  <tbody>\n",
       "    <tr>\n",
       "      <th>0</th>\n",
       "      <td>Central America and the Caribbean</td>\n",
       "      <td>Antigua and Barbuda</td>\n",
       "      <td>Baby Food</td>\n",
       "      <td>Online</td>\n",
       "      <td>M</td>\n",
       "      <td>12/20/2013</td>\n",
       "      <td>957081544</td>\n",
       "      <td>1/11/2014</td>\n",
       "      <td>552</td>\n",
       "      <td>255.28</td>\n",
       "      <td>159.42</td>\n",
       "      <td>140914.56</td>\n",
       "      <td>87999.84</td>\n",
       "      <td>52914.72</td>\n",
       "    </tr>\n",
       "    <tr>\n",
       "      <th>1</th>\n",
       "      <td>Central America and the Caribbean</td>\n",
       "      <td>Panama</td>\n",
       "      <td>Snacks</td>\n",
       "      <td>Offline</td>\n",
       "      <td>C</td>\n",
       "      <td>7/5/2010</td>\n",
       "      <td>301644504</td>\n",
       "      <td>7/26/2010</td>\n",
       "      <td>2167</td>\n",
       "      <td>152.58</td>\n",
       "      <td>97.44</td>\n",
       "      <td>330640.86</td>\n",
       "      <td>211152.48</td>\n",
       "      <td>119488.38</td>\n",
       "    </tr>\n",
       "    <tr>\n",
       "      <th>2</th>\n",
       "      <td>Europe</td>\n",
       "      <td>Czech Republic</td>\n",
       "      <td>Beverages</td>\n",
       "      <td>Offline</td>\n",
       "      <td>C</td>\n",
       "      <td>9/12/2011</td>\n",
       "      <td>478051030</td>\n",
       "      <td>9/29/2011</td>\n",
       "      <td>4778</td>\n",
       "      <td>47.45</td>\n",
       "      <td>31.79</td>\n",
       "      <td>226716.10</td>\n",
       "      <td>151892.62</td>\n",
       "      <td>74823.48</td>\n",
       "    </tr>\n",
       "    <tr>\n",
       "      <th>3</th>\n",
       "      <td>Asia</td>\n",
       "      <td>North Korea</td>\n",
       "      <td>Cereal</td>\n",
       "      <td>Offline</td>\n",
       "      <td>L</td>\n",
       "      <td>5/13/2010</td>\n",
       "      <td>892599952</td>\n",
       "      <td>6/15/2010</td>\n",
       "      <td>9016</td>\n",
       "      <td>205.70</td>\n",
       "      <td>117.11</td>\n",
       "      <td>1854591.20</td>\n",
       "      <td>1055863.76</td>\n",
       "      <td>798727.44</td>\n",
       "    </tr>\n",
       "    <tr>\n",
       "      <th>4</th>\n",
       "      <td>Asia</td>\n",
       "      <td>Sri Lanka</td>\n",
       "      <td>Snacks</td>\n",
       "      <td>Offline</td>\n",
       "      <td>C</td>\n",
       "      <td>7/20/2015</td>\n",
       "      <td>571902596</td>\n",
       "      <td>7/27/2015</td>\n",
       "      <td>7542</td>\n",
       "      <td>152.58</td>\n",
       "      <td>97.44</td>\n",
       "      <td>1150758.36</td>\n",
       "      <td>734892.48</td>\n",
       "      <td>415865.88</td>\n",
       "    </tr>\n",
       "    <tr>\n",
       "      <th>5</th>\n",
       "      <td>Middle East and North Africa</td>\n",
       "      <td>Morocco</td>\n",
       "      <td>Personal Care</td>\n",
       "      <td>Offline</td>\n",
       "      <td>L</td>\n",
       "      <td>11/8/2010</td>\n",
       "      <td>412882792</td>\n",
       "      <td>11/22/2010</td>\n",
       "      <td>48</td>\n",
       "      <td>81.73</td>\n",
       "      <td>56.67</td>\n",
       "      <td>3923.04</td>\n",
       "      <td>2720.16</td>\n",
       "      <td>1202.88</td>\n",
       "    </tr>\n",
       "    <tr>\n",
       "      <th>6</th>\n",
       "      <td>Australia and Oceania</td>\n",
       "      <td>Federated States of Micronesia</td>\n",
       "      <td>Clothes</td>\n",
       "      <td>Offline</td>\n",
       "      <td>H</td>\n",
       "      <td>3/28/2011</td>\n",
       "      <td>932776868</td>\n",
       "      <td>5/10/2011</td>\n",
       "      <td>8258</td>\n",
       "      <td>109.28</td>\n",
       "      <td>35.84</td>\n",
       "      <td>902434.24</td>\n",
       "      <td>295966.72</td>\n",
       "      <td>606467.52</td>\n",
       "    </tr>\n",
       "    <tr>\n",
       "      <th>7</th>\n",
       "      <td>Europe</td>\n",
       "      <td>Bosnia and Herzegovina</td>\n",
       "      <td>Clothes</td>\n",
       "      <td>Online</td>\n",
       "      <td>M</td>\n",
       "      <td>10/14/2013</td>\n",
       "      <td>919133651</td>\n",
       "      <td>11/4/2013</td>\n",
       "      <td>927</td>\n",
       "      <td>109.28</td>\n",
       "      <td>35.84</td>\n",
       "      <td>101302.56</td>\n",
       "      <td>33223.68</td>\n",
       "      <td>68078.88</td>\n",
       "    </tr>\n",
       "    <tr>\n",
       "      <th>8</th>\n",
       "      <td>Middle East and North Africa</td>\n",
       "      <td>Afghanistan</td>\n",
       "      <td>Clothes</td>\n",
       "      <td>Offline</td>\n",
       "      <td>M</td>\n",
       "      <td>8/27/2016</td>\n",
       "      <td>579814469</td>\n",
       "      <td>10/5/2016</td>\n",
       "      <td>8841</td>\n",
       "      <td>109.28</td>\n",
       "      <td>35.84</td>\n",
       "      <td>966144.48</td>\n",
       "      <td>316861.44</td>\n",
       "      <td>649283.04</td>\n",
       "    </tr>\n",
       "    <tr>\n",
       "      <th>9</th>\n",
       "      <td>Sub-Saharan Africa</td>\n",
       "      <td>Ethiopia</td>\n",
       "      <td>Baby Food</td>\n",
       "      <td>Online</td>\n",
       "      <td>M</td>\n",
       "      <td>4/13/2015</td>\n",
       "      <td>192993152</td>\n",
       "      <td>5/7/2015</td>\n",
       "      <td>9817</td>\n",
       "      <td>255.28</td>\n",
       "      <td>159.42</td>\n",
       "      <td>2506083.76</td>\n",
       "      <td>1565026.14</td>\n",
       "      <td>941057.62</td>\n",
       "    </tr>\n",
       "    <tr>\n",
       "      <th>10</th>\n",
       "      <td>Middle East and North Africa</td>\n",
       "      <td>Turkey</td>\n",
       "      <td>Office Supplies</td>\n",
       "      <td>Offline</td>\n",
       "      <td>C</td>\n",
       "      <td>9/25/2013</td>\n",
       "      <td>557156026</td>\n",
       "      <td>10/15/2013</td>\n",
       "      <td>3704</td>\n",
       "      <td>651.21</td>\n",
       "      <td>524.96</td>\n",
       "      <td>2412081.84</td>\n",
       "      <td>1944451.84</td>\n",
       "      <td>467630.00</td>\n",
       "    </tr>\n",
       "    <tr>\n",
       "      <th>11</th>\n",
       "      <td>Middle East and North Africa</td>\n",
       "      <td>Oman</td>\n",
       "      <td>Cosmetics</td>\n",
       "      <td>Online</td>\n",
       "      <td>M</td>\n",
       "      <td>5/12/2013</td>\n",
       "      <td>741101920</td>\n",
       "      <td>5/17/2013</td>\n",
       "      <td>7382</td>\n",
       "      <td>437.20</td>\n",
       "      <td>263.33</td>\n",
       "      <td>3227410.40</td>\n",
       "      <td>1943902.06</td>\n",
       "      <td>1283508.34</td>\n",
       "    </tr>\n",
       "    <tr>\n",
       "      <th>12</th>\n",
       "      <td>Asia</td>\n",
       "      <td>Malaysia</td>\n",
       "      <td>Cereal</td>\n",
       "      <td>Offline</td>\n",
       "      <td>L</td>\n",
       "      <td>7/31/2016</td>\n",
       "      <td>333942162</td>\n",
       "      <td>8/25/2016</td>\n",
       "      <td>9762</td>\n",
       "      <td>205.70</td>\n",
       "      <td>117.11</td>\n",
       "      <td>2008043.40</td>\n",
       "      <td>1143227.82</td>\n",
       "      <td>864815.58</td>\n",
       "    </tr>\n",
       "    <tr>\n",
       "      <th>13</th>\n",
       "      <td>Central America and the Caribbean</td>\n",
       "      <td>Saint Lucia</td>\n",
       "      <td>Cosmetics</td>\n",
       "      <td>Offline</td>\n",
       "      <td>H</td>\n",
       "      <td>7/6/2015</td>\n",
       "      <td>795100581</td>\n",
       "      <td>7/16/2015</td>\n",
       "      <td>6786</td>\n",
       "      <td>437.20</td>\n",
       "      <td>263.33</td>\n",
       "      <td>2966839.20</td>\n",
       "      <td>1786957.38</td>\n",
       "      <td>1179881.82</td>\n",
       "    </tr>\n",
       "    <tr>\n",
       "      <th>14</th>\n",
       "      <td>Central America and the Caribbean</td>\n",
       "      <td>Saint Vincent and the Grenadines</td>\n",
       "      <td>Baby Food</td>\n",
       "      <td>Online</td>\n",
       "      <td>L</td>\n",
       "      <td>11/28/2010</td>\n",
       "      <td>504313504</td>\n",
       "      <td>12/3/2010</td>\n",
       "      <td>6428</td>\n",
       "      <td>255.28</td>\n",
       "      <td>159.42</td>\n",
       "      <td>1640939.84</td>\n",
       "      <td>1024751.76</td>\n",
       "      <td>616188.08</td>\n",
       "    </tr>\n",
       "    <tr>\n",
       "      <th>15</th>\n",
       "      <td>Middle East and North Africa</td>\n",
       "      <td>Lebanon</td>\n",
       "      <td>Meat</td>\n",
       "      <td>Offline</td>\n",
       "      <td>H</td>\n",
       "      <td>12/17/2015</td>\n",
       "      <td>611629760</td>\n",
       "      <td>1/31/2016</td>\n",
       "      <td>3693</td>\n",
       "      <td>421.89</td>\n",
       "      <td>364.69</td>\n",
       "      <td>1558039.77</td>\n",
       "      <td>1346800.17</td>\n",
       "      <td>211239.60</td>\n",
       "    </tr>\n",
       "    <tr>\n",
       "      <th>16</th>\n",
       "      <td>Europe</td>\n",
       "      <td>Austria</td>\n",
       "      <td>Cereal</td>\n",
       "      <td>Offline</td>\n",
       "      <td>C</td>\n",
       "      <td>8/13/2014</td>\n",
       "      <td>987410676</td>\n",
       "      <td>9/6/2014</td>\n",
       "      <td>5616</td>\n",
       "      <td>205.70</td>\n",
       "      <td>117.11</td>\n",
       "      <td>1155211.20</td>\n",
       "      <td>657689.76</td>\n",
       "      <td>497521.44</td>\n",
       "    </tr>\n",
       "    <tr>\n",
       "      <th>17</th>\n",
       "      <td>Europe</td>\n",
       "      <td>Bulgaria</td>\n",
       "      <td>Office Supplies</td>\n",
       "      <td>Online</td>\n",
       "      <td>L</td>\n",
       "      <td>10/31/2010</td>\n",
       "      <td>672330081</td>\n",
       "      <td>11/29/2010</td>\n",
       "      <td>6266</td>\n",
       "      <td>651.21</td>\n",
       "      <td>524.96</td>\n",
       "      <td>4080481.86</td>\n",
       "      <td>3289399.36</td>\n",
       "      <td>791082.50</td>\n",
       "    </tr>\n",
       "    <tr>\n",
       "      <th>18</th>\n",
       "      <td>North America</td>\n",
       "      <td>Mexico</td>\n",
       "      <td>Beverages</td>\n",
       "      <td>Online</td>\n",
       "      <td>C</td>\n",
       "      <td>3/13/2017</td>\n",
       "      <td>127374303</td>\n",
       "      <td>3/20/2017</td>\n",
       "      <td>1742</td>\n",
       "      <td>47.45</td>\n",
       "      <td>31.79</td>\n",
       "      <td>82657.90</td>\n",
       "      <td>55378.18</td>\n",
       "      <td>27279.72</td>\n",
       "    </tr>\n",
       "    <tr>\n",
       "      <th>19</th>\n",
       "      <td>Central America and the Caribbean</td>\n",
       "      <td>Trinidad and Tobago</td>\n",
       "      <td>Baby Food</td>\n",
       "      <td>Offline</td>\n",
       "      <td>C</td>\n",
       "      <td>4/16/2013</td>\n",
       "      <td>783842170</td>\n",
       "      <td>6/1/2013</td>\n",
       "      <td>5172</td>\n",
       "      <td>255.28</td>\n",
       "      <td>159.42</td>\n",
       "      <td>1320308.16</td>\n",
       "      <td>824520.24</td>\n",
       "      <td>495787.92</td>\n",
       "    </tr>\n",
       "    <tr>\n",
       "      <th>20</th>\n",
       "      <td>Middle East and North Africa</td>\n",
       "      <td>Libya</td>\n",
       "      <td>Beverages</td>\n",
       "      <td>Offline</td>\n",
       "      <td>L</td>\n",
       "      <td>1/18/2010</td>\n",
       "      <td>993345010</td>\n",
       "      <td>3/3/2010</td>\n",
       "      <td>1718</td>\n",
       "      <td>47.45</td>\n",
       "      <td>31.79</td>\n",
       "      <td>81519.10</td>\n",
       "      <td>54615.22</td>\n",
       "      <td>26903.88</td>\n",
       "    </tr>\n",
       "    <tr>\n",
       "      <th>21</th>\n",
       "      <td>Middle East and North Africa</td>\n",
       "      <td>Algeria</td>\n",
       "      <td>Baby Food</td>\n",
       "      <td>Offline</td>\n",
       "      <td>M</td>\n",
       "      <td>9/5/2015</td>\n",
       "      <td>977806651</td>\n",
       "      <td>10/14/2015</td>\n",
       "      <td>3572</td>\n",
       "      <td>255.28</td>\n",
       "      <td>159.42</td>\n",
       "      <td>911860.16</td>\n",
       "      <td>569448.24</td>\n",
       "      <td>342411.92</td>\n",
       "    </tr>\n",
       "  </tbody>\n",
       "</table>\n",
       "</div>"
      ],
      "text/plain": [
       "                               Region                           Country  \\\n",
       "0   Central America and the Caribbean              Antigua and Barbuda    \n",
       "1   Central America and the Caribbean                            Panama   \n",
       "2                              Europe                    Czech Republic   \n",
       "3                                Asia                       North Korea   \n",
       "4                                Asia                         Sri Lanka   \n",
       "5        Middle East and North Africa                           Morocco   \n",
       "6               Australia and Oceania    Federated States of Micronesia   \n",
       "7                              Europe            Bosnia and Herzegovina   \n",
       "8        Middle East and North Africa                       Afghanistan   \n",
       "9                  Sub-Saharan Africa                          Ethiopia   \n",
       "10       Middle East and North Africa                            Turkey   \n",
       "11       Middle East and North Africa                              Oman   \n",
       "12                               Asia                          Malaysia   \n",
       "13  Central America and the Caribbean                       Saint Lucia   \n",
       "14  Central America and the Caribbean  Saint Vincent and the Grenadines   \n",
       "15       Middle East and North Africa                           Lebanon   \n",
       "16                             Europe                           Austria   \n",
       "17                             Europe                          Bulgaria   \n",
       "18                      North America                            Mexico   \n",
       "19  Central America and the Caribbean               Trinidad and Tobago   \n",
       "20       Middle East and North Africa                             Libya   \n",
       "21       Middle East and North Africa                           Algeria   \n",
       "\n",
       "          Item Type Sales Channel Order Priority  Order Date   Order ID  \\\n",
       "0         Baby Food        Online              M  12/20/2013  957081544   \n",
       "1            Snacks       Offline              C    7/5/2010  301644504   \n",
       "2         Beverages       Offline              C   9/12/2011  478051030   \n",
       "3            Cereal       Offline              L   5/13/2010  892599952   \n",
       "4            Snacks       Offline              C   7/20/2015  571902596   \n",
       "5     Personal Care       Offline              L   11/8/2010  412882792   \n",
       "6           Clothes       Offline              H   3/28/2011  932776868   \n",
       "7           Clothes        Online              M  10/14/2013  919133651   \n",
       "8           Clothes       Offline              M   8/27/2016  579814469   \n",
       "9         Baby Food        Online              M   4/13/2015  192993152   \n",
       "10  Office Supplies       Offline              C   9/25/2013  557156026   \n",
       "11        Cosmetics        Online              M   5/12/2013  741101920   \n",
       "12           Cereal       Offline              L   7/31/2016  333942162   \n",
       "13        Cosmetics       Offline              H    7/6/2015  795100581   \n",
       "14        Baby Food        Online              L  11/28/2010  504313504   \n",
       "15             Meat       Offline              H  12/17/2015  611629760   \n",
       "16           Cereal       Offline              C   8/13/2014  987410676   \n",
       "17  Office Supplies        Online              L  10/31/2010  672330081   \n",
       "18        Beverages        Online              C   3/13/2017  127374303   \n",
       "19        Baby Food       Offline              C   4/16/2013  783842170   \n",
       "20        Beverages       Offline              L   1/18/2010  993345010   \n",
       "21        Baby Food       Offline              M    9/5/2015  977806651   \n",
       "\n",
       "     Ship Date Units Sold Unit Price Unit Cost Total Revenue  Total Cost  \\\n",
       "0    1/11/2014        552     255.28    159.42     140914.56    87999.84   \n",
       "1    7/26/2010       2167     152.58     97.44     330640.86   211152.48   \n",
       "2    9/29/2011       4778      47.45     31.79     226716.10   151892.62   \n",
       "3    6/15/2010       9016     205.70    117.11    1854591.20  1055863.76   \n",
       "4    7/27/2015       7542     152.58     97.44    1150758.36   734892.48   \n",
       "5   11/22/2010         48      81.73     56.67       3923.04     2720.16   \n",
       "6    5/10/2011       8258     109.28     35.84     902434.24   295966.72   \n",
       "7    11/4/2013        927     109.28     35.84     101302.56    33223.68   \n",
       "8    10/5/2016       8841     109.28     35.84     966144.48   316861.44   \n",
       "9     5/7/2015       9817     255.28    159.42    2506083.76  1565026.14   \n",
       "10  10/15/2013       3704     651.21    524.96    2412081.84  1944451.84   \n",
       "11   5/17/2013       7382     437.20    263.33    3227410.40  1943902.06   \n",
       "12   8/25/2016       9762     205.70    117.11    2008043.40  1143227.82   \n",
       "13   7/16/2015       6786     437.20    263.33    2966839.20  1786957.38   \n",
       "14   12/3/2010       6428     255.28    159.42    1640939.84  1024751.76   \n",
       "15   1/31/2016       3693     421.89    364.69    1558039.77  1346800.17   \n",
       "16    9/6/2014       5616     205.70    117.11    1155211.20   657689.76   \n",
       "17  11/29/2010       6266     651.21    524.96    4080481.86  3289399.36   \n",
       "18   3/20/2017       1742      47.45     31.79      82657.90    55378.18   \n",
       "19    6/1/2013       5172     255.28    159.42    1320308.16   824520.24   \n",
       "20    3/3/2010       1718      47.45     31.79      81519.10    54615.22   \n",
       "21  10/14/2015       3572     255.28    159.42     911860.16   569448.24   \n",
       "\n",
       "   Total Profit  \n",
       "0      52914.72  \n",
       "1     119488.38  \n",
       "2      74823.48  \n",
       "3     798727.44  \n",
       "4     415865.88  \n",
       "5       1202.88  \n",
       "6     606467.52  \n",
       "7      68078.88  \n",
       "8     649283.04  \n",
       "9     941057.62  \n",
       "10    467630.00  \n",
       "11   1283508.34  \n",
       "12    864815.58  \n",
       "13   1179881.82  \n",
       "14    616188.08  \n",
       "15    211239.60  \n",
       "16    497521.44  \n",
       "17    791082.50  \n",
       "18     27279.72  \n",
       "19    495787.92  \n",
       "20     26903.88  \n",
       "21    342411.92  "
      ]
     },
     "execution_count": 44,
     "metadata": {},
     "output_type": "execute_result"
    }
   ],
   "source": [
    "# Sanity check to prove that my list can be interpreted as a dataframe\n",
    "\n",
    "pd.DataFrame(dict_list)"
   ]
  }
 ],
 "metadata": {
  "kernelspec": {
   "display_name": "Python 3",
   "language": "python",
   "name": "python3"
  },
  "language_info": {
   "codemirror_mode": {
    "name": "ipython",
    "version": 3
   },
   "file_extension": ".py",
   "mimetype": "text/x-python",
   "name": "python",
   "nbconvert_exporter": "python",
   "pygments_lexer": "ipython3",
   "version": "3.8.5"
  }
 },
 "nbformat": 4,
 "nbformat_minor": 4
}
