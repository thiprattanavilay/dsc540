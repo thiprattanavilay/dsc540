{
 "cells": [
  {
   "cell_type": "markdown",
   "metadata": {},
   "source": [
    "##########################################################\n",
    "#### File: RattanavilayThip_Weeks_11_&_12_Exercises<br>\n",
    "#### Name: Thip Rattanavilay<br>\n",
    "#### Date: 06/4/2021<br>\n",
    "#### Course: DSC 540 - Assignment: Weeks 11 & 12 Exercises<br>\n",
    "##########################################################"
   ]
  },
  {
   "cell_type": "markdown",
   "metadata": {},
   "source": [
    "# Data Wrangling with Python: Activity 11, page 320"
   ]
  },
  {
   "cell_type": "markdown",
   "metadata": {},
   "source": [
    "Complete the following exercise. You can submit a Jupyter Notebook or a PDF of your code. If you submit a .py file you need to also include a PDF or attachment of your results."
   ]
  },
  {
   "cell_type": "markdown",
   "metadata": {},
   "source": [
    "### Task 1: (Connect to the supplied petsDB, and write a function to check if the connection is done)\n",
    "\n",
    "### Retrieving Data Correctly from databases\n"
   ]
  },
  {
   "cell_type": "code",
   "execution_count": 1,
   "metadata": {},
   "outputs": [],
   "source": [
    "# Step 1: Connect to petsdb and check if connection is successful\n",
    "import sqlite3"
   ]
  },
  {
   "cell_type": "code",
   "execution_count": 2,
   "metadata": {},
   "outputs": [],
   "source": [
    "conn = sqlite3.connect('petsdb')"
   ]
  },
  {
   "cell_type": "code",
   "execution_count": 3,
   "metadata": {},
   "outputs": [
    {
     "name": "stdout",
     "output_type": "stream",
     "text": [
      "Database connection good ? True\n"
     ]
    }
   ],
   "source": [
    "# function to check if connection is successful\n",
    "def connection_status(conn):\n",
    "    try:\n",
    "        conn.execute(\"SELECT 1 FROM persons\")\n",
    "        return True\n",
    "    except sqlite3.ProgrammingError as e:\n",
    "        print(\"Connection is Closed-\",e)\n",
    "        return False\n",
    "    except Exception as e:\n",
    "        print(\"Other Error-\",e)\n",
    "        return False\n",
    "\n",
    "print(\"Database connection good ?\",connection_status(conn))"
   ]
  },
  {
   "cell_type": "markdown",
   "metadata": {},
   "source": [
    "### Task 2: (What are the different age groups in the persons database)"
   ]
  },
  {
   "cell_type": "code",
   "execution_count": 4,
   "metadata": {},
   "outputs": [
    {
     "name": "stdout",
     "output_type": "stream",
     "text": [
      "[('persons',), ('pets',)]\n"
     ]
    }
   ],
   "source": [
    "# Checking all the tables in the db\n",
    "cursor = conn.cursor()\n",
    "cursor.execute(\"SELECT name FROM sqlite_master WHERE type='table';\")\n",
    "print(cursor.fetchall())"
   ]
  },
  {
   "cell_type": "code",
   "execution_count": 5,
   "metadata": {},
   "outputs": [
    {
     "name": "stdout",
     "output_type": "stream",
     "text": [
      "[(0, 'id', 'INTEGER', 0, None, 0), (1, 'first_name', 'TEXT', 0, None, 0), (2, 'last_name', 'TEXT', 0, None, 0), (3, 'age', 'INTEGER', 0, None, 0), (4, 'city', 'TEXT', 0, None, 0), (5, 'zip_code', 'INTEGER', 0, None, 0)]\n"
     ]
    }
   ],
   "source": [
    "# Checking table structure and data types - persons\n",
    "cursor.execute(\"PRAGMA table_info([persons])\")\n",
    "print(cursor.fetchall())\n",
    "\n",
    "# SELF NOTES\n",
    "# PRAGMA is equivalent of DESCRIBE"
   ]
  },
  {
   "cell_type": "code",
   "execution_count": 6,
   "metadata": {},
   "outputs": [
    {
     "name": "stdout",
     "output_type": "stream",
     "text": [
      "[(0, 'owner_id', 'INTEGER', 0, None, 0), (1, 'pet_name', 'TEXT', 0, None, 0), (2, 'pet_type', 'REAL', 0, None, 0), (3, 'treatment_done', 'INTEGER', 0, None, 0)]\n"
     ]
    }
   ],
   "source": [
    "# Checking table structure and data types - pets\n",
    "cursor.execute(\"PRAGMA table_info([pets])\")\n",
    "print(cursor.fetchall())"
   ]
  },
  {
   "cell_type": "code",
   "execution_count": 7,
   "metadata": {},
   "outputs": [
    {
     "name": "stdout",
     "output_type": "stream",
     "text": [
      "There are 2 people within the age of 5\n",
      "There are 1 people within the age of 6\n",
      "There are 1 people within the age of 7\n",
      "There are 3 people within the age of 8\n",
      "There are 1 people within the age of 9\n",
      "There are 2 people within the age of 11\n",
      "There are 3 people within the age of 12\n",
      "There are 1 people within the age of 13\n",
      "There are 4 people within the age of 14\n",
      "There are 2 people within the age of 16\n",
      "There are 2 people within the age of 17\n",
      "There are 3 people within the age of 18\n",
      "There are 1 people within the age of 19\n",
      "There are 3 people within the age of 22\n",
      "There are 2 people within the age of 23\n",
      "There are 3 people within the age of 24\n",
      "There are 2 people within the age of 25\n",
      "There are 1 people within the age of 27\n",
      "There are 1 people within the age of 30\n",
      "There are 3 people within the age of 31\n",
      "There are 1 people within the age of 32\n",
      "There are 1 people within the age of 33\n",
      "There are 2 people within the age of 34\n",
      "There are 3 people within the age of 35\n",
      "There are 3 people within the age of 36\n",
      "There are 1 people within the age of 37\n",
      "There are 2 people within the age of 39\n",
      "There are 1 people within the age of 40\n",
      "There are 1 people within the age of 42\n",
      "There are 2 people within the age of 44\n",
      "There are 2 people within the age of 48\n",
      "There are 1 people within the age of 49\n",
      "There are 1 people within the age of 50\n",
      "There are 2 people within the age of 51\n",
      "There are 2 people within the age of 52\n",
      "There are 2 people within the age of 53\n",
      "There are 2 people within the age of 54\n",
      "There are 1 people within the age of 58\n",
      "There are 1 people within the age of 59\n",
      "There are 1 people within the age of 60\n",
      "There are 1 people within the age of 61\n",
      "There are 2 people within the age of 62\n",
      "There are 1 people within the age of 63\n",
      "There are 2 people within the age of 65\n",
      "There are 2 people within the age of 66\n",
      "There are 1 people within the age of 67\n",
      "There are 3 people within the age of 68\n",
      "There are 1 people within the age of 69\n",
      "There are 1 people within the age of 70\n",
      "There are 4 people within the age of 71\n",
      "There are 1 people within the age of 72\n",
      "There are 5 people within the age of 73\n",
      "There are 3 people within the age of 74\n"
     ]
    }
   ],
   "source": [
    "# Step 2: Find the different age groups in the persons database\n",
    "for pplCnt, ageGroup in cursor.execute(\"SELECT count(*), age FROM persons GROUP BY age\"):\n",
    "    print(\"There are {} people within the age of {}\".format(pplCnt,ageGroup))"
   ]
  },
  {
   "cell_type": "code",
   "execution_count": 8,
   "metadata": {},
   "outputs": [
    {
     "name": "stdout",
     "output_type": "stream",
     "text": [
      "Highest number of people 5 came from 73 age group\n"
     ]
    }
   ],
   "source": [
    "# Step 3: Find the age group that has maximum number of people\n",
    "# ordering the above query by descending count. So the top will be the max\n",
    "for pplCnt, ageGroup in cursor.execute(\"SELECT count(*), age FROM persons GROUP BY age ORDER BY count(*) DESC\"):\n",
    "    print(\"Highest number of people {} came from {} age group\".format(pplCnt,ageGroup))\n",
    "    break"
   ]
  },
  {
   "cell_type": "code",
   "execution_count": 9,
   "metadata": {},
   "outputs": [
    {
     "name": "stdout",
     "output_type": "stream",
     "text": [
      "People Count with No Last Name -  (60,)\n",
      "First Names of people with No Last Name -  ('Erica',)\n",
      "First Names of people with No Last Name -  ('Jordi',)\n",
      "First Names of people with No Last Name -  ('Chasity',)\n",
      "First Names of people with No Last Name -  ('Gregg',)\n",
      "First Names of people with No Last Name -  ('Cary',)\n",
      "First Names of people with No Last Name -  ('Francisca',)\n",
      "First Names of people with No Last Name -  ('Raleigh',)\n",
      "First Names of people with No Last Name -  ('Maria',)\n",
      "First Names of people with No Last Name -  ('Mariane',)\n",
      "First Names of people with No Last Name -  ('Mona',)\n",
      "First Names of people with No Last Name -  ('Kayla',)\n",
      "First Names of people with No Last Name -  ('Karlie',)\n",
      "First Names of people with No Last Name -  ('Morris',)\n",
      "First Names of people with No Last Name -  ('Sandy',)\n",
      "First Names of people with No Last Name -  ('Hector',)\n",
      "First Names of people with No Last Name -  ('Hiram',)\n",
      "First Names of people with No Last Name -  ('Tressa',)\n",
      "First Names of people with No Last Name -  ('Berry',)\n",
      "First Names of people with No Last Name -  ('Pearline',)\n",
      "First Names of people with No Last Name -  ('Maynard',)\n",
      "First Names of people with No Last Name -  ('Dorian',)\n",
      "First Names of people with No Last Name -  ('Mylene',)\n",
      "First Names of people with No Last Name -  ('Lafayette',)\n",
      "First Names of people with No Last Name -  ('Tara',)\n",
      "First Names of people with No Last Name -  ('Destiny',)\n",
      "First Names of people with No Last Name -  ('Lesly',)\n",
      "First Names of people with No Last Name -  ('Perry',)\n",
      "First Names of people with No Last Name -  ('Maritza',)\n",
      "First Names of people with No Last Name -  ('Grant',)\n",
      "First Names of people with No Last Name -  ('Laury',)\n",
      "First Names of people with No Last Name -  ('Name',)\n",
      "First Names of people with No Last Name -  ('Estefania',)\n",
      "First Names of people with No Last Name -  ('Destiney',)\n",
      "First Names of people with No Last Name -  ('Jaquelin',)\n",
      "First Names of people with No Last Name -  ('Alfonzo',)\n",
      "First Names of people with No Last Name -  ('Lisandro',)\n",
      "First Names of people with No Last Name -  ('Priscilla',)\n",
      "First Names of people with No Last Name -  ('Elenora',)\n",
      "First Names of people with No Last Name -  ('Rudolph',)\n",
      "First Names of people with No Last Name -  ('Ona',)\n",
      "First Names of people with No Last Name -  ('Rebeca',)\n",
      "First Names of people with No Last Name -  ('Sigurd',)\n",
      "First Names of people with No Last Name -  ('Alice',)\n",
      "First Names of people with No Last Name -  ('Dane',)\n",
      "First Names of people with No Last Name -  ('Judge',)\n",
      "First Names of people with No Last Name -  ('Allene',)\n",
      "First Names of people with No Last Name -  ('Jalen',)\n",
      "First Names of people with No Last Name -  ('Myron',)\n",
      "First Names of people with No Last Name -  ('Travon',)\n",
      "First Names of people with No Last Name -  ('Shayna',)\n",
      "First Names of people with No Last Name -  ('Myah',)\n",
      "First Names of people with No Last Name -  ('Letha',)\n",
      "First Names of people with No Last Name -  ('Felton',)\n",
      "First Names of people with No Last Name -  ('London',)\n",
      "First Names of people with No Last Name -  ('Koby',)\n",
      "First Names of people with No Last Name -  ('Golden',)\n",
      "First Names of people with No Last Name -  ('Anissa',)\n",
      "First Names of people with No Last Name -  ('Sid',)\n",
      "First Names of people with No Last Name -  ('Ernesto',)\n",
      "First Names of people with No Last Name -  ('Josianne',)\n"
     ]
    }
   ],
   "source": [
    "# Step 4: Find the people who do not have last name\n",
    "# Count of people who do not have last name\n",
    "for result in cursor.execute(\"SELECT count(*) FROM persons where last_name is null\"):\n",
    "    print(\"People Count with No Last Name - \",result)\n",
    "    break\n",
    "# First name of people with no last name\n",
    "for result in cursor.execute(\"SELECT first_name FROM persons where last_name is null\"):\n",
    "    print(\"First Names of people with No Last Name - \",result)"
   ]
  },
  {
   "cell_type": "code",
   "execution_count": 10,
   "metadata": {},
   "outputs": [
    {
     "name": "stdout",
     "output_type": "stream",
     "text": [
      "[(3,), (3,), (2,), (3,), (2,), (3,), (2,), (2,), (2,), (2,), (2,), (3,), (2,), (3,), (2,), (5,), (2,), (2,), (3,), (3,), (3,), (4,), (2,), (2,), (4,), (3,), (3,), (2,), (2,), (2,), (3,), (3,), (2,), (5,), (3,), (2,), (3,), (3,), (2,), (2,), (3,), (3,), (2,)]\n",
      "People Count with more than 1 PET - (43,)\n"
     ]
    }
   ],
   "source": [
    "# Step 5: Find people who have more than one pet\n",
    "# This is all counts of pets for > 1\n",
    "cursor.execute(\"SELECT count(owner_id) FROM  pets GROUP BY owner_id HAVING count(owner_id) > 1\")\n",
    "print(cursor.fetchall())\n",
    "\n",
    "# add up all the results from previous query\n",
    "for result in cursor.execute(\"SELECT count(*) FROM (SELECT count(owner_id) FROM  pets GROUP BY owner_id HAVING count(owner_id) > 1)\"):\n",
    "    print(\"People Count with more than 1 PET -\", result)\n",
    "    break\n"
   ]
  },
  {
   "cell_type": "code",
   "execution_count": 11,
   "metadata": {},
   "outputs": [
    {
     "name": "stdout",
     "output_type": "stream",
     "text": [
      "[(0,), (1,)]\n",
      "Count of Pets with treatment - (36,)\n"
     ]
    }
   ],
   "source": [
    "# Step 6: Find out how many pets have recieved treatments\n",
    "# checking distinct values of treatment_done column\n",
    "cursor.execute(\"SELECT DISTINCT(treatment_done) FROM pets\")\n",
    "print(cursor.fetchall())\n",
    "# based on answer from above query assuming treatment_done =1  means treatment has been done\n",
    "for result in cursor.execute(\"SELECT count(*) FROM pets WHERE treatment_done=1\"):\n",
    "    print(\"Count of Pets with treatment -\", result)\n",
    "    break"
   ]
  },
  {
   "cell_type": "code",
   "execution_count": 12,
   "metadata": {},
   "outputs": [
    {
     "name": "stdout",
     "output_type": "stream",
     "text": [
      "Count of Pets with treatment - (16,)\n"
     ]
    }
   ],
   "source": [
    "# Step 7: Find out how many pets have recieved treatments and the type of pet is known\n",
    "# adding additional where clause for pet type not null\n",
    "for result in cursor.execute(\"SELECT count(*) FROM pets WHERE treatment_done=1 AND pet_type is not null\"):\n",
    "    print(\"Count of Pets with treatment -\", result)\n",
    "    break"
   ]
  },
  {
   "cell_type": "code",
   "execution_count": 13,
   "metadata": {},
   "outputs": [
    {
     "name": "stdout",
     "output_type": "stream",
     "text": [
      "Count of Pets from east port - (49,)\n"
     ]
    }
   ],
   "source": [
    "# Step 8: Find out how many pets are from the city call east port\n",
    "# we will need to join the table from person as city information is available in owners data\n",
    "for result in cursor.execute(\"SELECT count(*) FROM pets JOIN persons ON pets.owner_id = persons.id where persons.city='east port'\"):\n",
    "    print(\"Count of Pets from east port -\", result)\n",
    "    break"
   ]
  },
  {
   "cell_type": "code",
   "execution_count": 14,
   "metadata": {},
   "outputs": [
    {
     "name": "stdout",
     "output_type": "stream",
     "text": [
      "Count of Pets from east port - (11,)\n"
     ]
    }
   ],
   "source": [
    "# Step 9: Find out how many pets are from the city call east port and who recieved a treatment\n",
    "# adding check for pets.treatment_done = 1 to the above query\n",
    "for result in cursor.execute(\"SELECT count(*) FROM pets JOIN persons ON pets.owner_id = persons.id where persons.city='east port' AND pets.treatment_done=1\"):\n",
    "    print(\"Count of Pets from east port -\", result)\n",
    "    break\n"
   ]
  },
  {
   "cell_type": "markdown",
   "metadata": {},
   "source": [
    "### The End"
   ]
  }
 ],
 "metadata": {
  "kernelspec": {
   "display_name": "Python 3",
   "language": "python",
   "name": "python3"
  },
  "language_info": {
   "codemirror_mode": {
    "name": "ipython",
    "version": 3
   },
   "file_extension": ".py",
   "mimetype": "text/x-python",
   "name": "python",
   "nbconvert_exporter": "python",
   "pygments_lexer": "ipython3",
   "version": "3.8.5"
  }
 },
 "nbformat": 4,
 "nbformat_minor": 4
}
